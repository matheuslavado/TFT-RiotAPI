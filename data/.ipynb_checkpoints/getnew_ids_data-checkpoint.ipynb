{
 "cells": [
  {
   "cell_type": "code",
   "execution_count": 1,
   "metadata": {
    "ExecuteTime": {
     "end_time": "2020-05-17T01:53:35.541272Z",
     "start_time": "2020-05-17T01:53:35.537256Z"
    }
   },
   "outputs": [],
   "source": [
    "import os\n",
    "import pandas as pd\n",
    "import requests\n",
    "from getpass import getpass\n",
    "from bs4 import BeautifulSoup\n",
    "import json\n",
    "from tqdm import tqdm\n",
    "import time\n",
    "from datetime import datetime"
   ]
  },
  {
   "cell_type": "code",
   "execution_count": 2,
   "metadata": {
    "ExecuteTime": {
     "end_time": "2020-05-17T01:50:51.722337Z",
     "start_time": "2020-05-17T01:50:46.866432Z"
    }
   },
   "outputs": [
    {
     "name": "stdout",
     "output_type": "stream",
     "text": [
      "········\n"
     ]
    }
   ],
   "source": [
    "key = getpass()"
   ]
  },
  {
   "cell_type": "code",
   "execution_count": 3,
   "metadata": {
    "ExecuteTime": {
     "end_time": "2020-05-17T01:50:52.338160Z",
     "start_time": "2020-05-17T01:50:52.315173Z"
    }
   },
   "outputs": [],
   "source": [
    "class TFTRiotAPI:\n",
    "    def __init__(self):\n",
    "        pass\n",
    "    \n",
    "    def summoner_name(self, key, name):\n",
    "        name = name.replace(' ', '%20')\n",
    "        request = requests.get(f'https://br1.api.riotgames.com/tft/summoner/v1/summoners/by-name/{name}?api_key={key}')\n",
    "        return eval(request.content)\n",
    "    \n",
    "    def match_list(self, key, puuid, n = 30):\n",
    "        request = requests.get(f'https://americas.api.riotgames.com/tft/match/v1/matches/by-puuid/{puuid}/ids?count={n}&api_key={key}')\n",
    "        return eval(request.content)\n",
    "    \n",
    "    def match_info(self, key, matchid, unixtime = False):\n",
    "        '''Return a dataframe with some infos from the match (matchid, datetime, game lenght(s), game variation,\n",
    "        game version, number of the set).\n",
    "\n",
    "        key = riot API-key\n",
    "        matchid = The id from a specific match of team fight tatics(TFT)'''\n",
    "\n",
    "        request = requests.get(f'https://americas.api.riotgames.com/tft/match/v1/matches/{matchid}?api_key={key}')\n",
    "        df = pd.DataFrame(pd.json_normalize(eval(request.content)))\n",
    "        df2 = df[['metadata.match_id', 'info.game_datetime', 'info.game_length', 'info.game_variation',\n",
    "           'info.game_version', 'info.tft_set_number']]\n",
    "        df2.columns = [i.replace('metadata.', '').replace('info.', '') for i in df2.columns]\n",
    "        \n",
    "        y = df2.copy()\n",
    "        if unixtime == False:\n",
    "            x = df2['game_datetime'].apply(lambda x: pd.to_datetime(datetime.utcfromtimestamp(int(x)/1000).strftime('%Y-%m-%d %H:%M:%S')))\n",
    "            y = df2.copy()\n",
    "            y['game_datetime'] = x\n",
    "\n",
    "        return y\n",
    "    \n",
    "    def match_participants(self, key, matchid):\n",
    "        '''Return a list with the puuid from the 8 participants of the match'''\n",
    "\n",
    "        request = requests.get(f'https://americas.api.riotgames.com/tft/match/v1/matches/{matchid}?api_key={key}')\n",
    "        df = pd.DataFrame(pd.json_normalize(eval(request.content)))\n",
    "        return df.iloc[0,2]\n",
    "    \n",
    "    def match_results(self, key, matchid):\n",
    "        request = requests.get(f'https://americas.api.riotgames.com/tft/match/v1/matches/{matchid}?api_key={key}')\n",
    "        soup = BeautifulSoup(request.content)\n",
    "        df_master = pd.DataFrame(columns = ['match_id', 'gold_left', 'last_round', 'level', 'placement', 'players_eliminated', 'puuid',\n",
    "                                     'time_eliminated', 'total_damage_to_players', 'Set3_Blademaster', 'Blaster',\n",
    "                                     'Set3_Brawler', 'Set3_Celestial', 'Chrono', 'Cybernetic', 'DarkStar',\n",
    "                                     'Demolitionist', 'Infiltrator', 'ManaReaver', 'MechPilot',\n",
    "                                     'Mercenary', 'Set3_Mystic', 'Protector', 'Rebel', 'Sniper',\n",
    "                                     'SpacePirate', 'StarGuardian', 'Starship', 'Set3_Sorcerer', \n",
    "                                     'Valkyrie', 'Vanguard', 'Set3_Void', 'champion_1', 'champion_2', 'champion_3',\n",
    "                                     'champion_4', 'champion_5', 'champion_6', 'champion_7', 'champion_8', 'champion_9',\n",
    "                                     'champion_10'])\n",
    "\n",
    "        df_match = pd.DataFrame(pd.json_normalize(eval(soup.text)))\n",
    "        dict_players = df_match.iloc[0,-3]\n",
    "\n",
    "        for i in range(8):\n",
    "            info_player = pd.DataFrame([dict_players[i]])\n",
    "            df_master.loc[i, 'match_id'] = df_match.loc[0, 'metadata.match_id']\n",
    "            df_master.loc[i, 'gold_left'] = info_player.loc[0, 'gold_left']\n",
    "            df_master.loc[i, 'last_round'] = info_player.loc[0, 'last_round']\n",
    "            df_master.loc[i, 'level'] = info_player.loc[0, 'level']\n",
    "            df_master.loc[i, 'placement'] = info_player.loc[0, 'placement']\n",
    "            df_master.loc[i, 'players_eliminated'] = info_player.loc[0, 'players_eliminated']\n",
    "            df_master.loc[i, 'puuid'] = info_player.loc[0, 'puuid']\n",
    "            df_master.loc[i, 'time_eliminated'] = info_player.loc[0, 'time_eliminated']\n",
    "            df_master.loc[i, 'total_damage_to_players'] = info_player.loc[0, 'total_damage_to_players']\n",
    "\n",
    "            for j in range(len(info_player.iloc[0, -2])): ## nesta etapa ele adiciona os tipos e quantidade, possui um valor extra no dicio que causa um bug (TemplateTrait)\n",
    "                intermediate = pd.DataFrame(info_player.iloc[0, -2])\n",
    "                df_master.loc[i, intermediate['name'][j]] = intermediate['num_units'][j]\n",
    "\n",
    "            for k in range(len(info_player.iloc[0, -1])):\n",
    "                intermediate = pd.DataFrame(info_player.iloc[0, -1])        \n",
    "                df_master.loc[i, 'champion_' + str(k+1)] = (intermediate['character_id'][k] + '_' + str(intermediate['tier'][k])).replace('TFT3_', '')\n",
    "\n",
    "        #df_master.columns = ['match_id', 'gold_left', 'last_round', 'level', 'placement', 'players_eliminated', 'puuid',\n",
    "        #                             'time_eliminated', 'total_damage_to_players', 'blademaster_num', 'blaster_num',\n",
    "        #                             'brawler_num', 'celestial_num', 'chrono_num', 'cybernetic_num', 'dark_star_num',\n",
    "        #                             'demolitionist_num', 'infiltrator_num', 'mana_reaver_num', 'mech_pilot_num',\n",
    "        #                             'mercenary_num', 'mystic_num', 'protector_num', 'rebel_num', 'sniper_num',\n",
    "        #                             'space_pirate_num', 'star_guardian_num', 'starship_num', 'sorcerer_num', \n",
    "        #                             'valkyrie_num', 'vanguard_num', 'void_num', 'champion_1', 'champion_2', 'champion_3',\n",
    "        #                             'champion_4', 'champion_5', 'champion_6', 'champion_7', 'champion_8', 'champion_9',\n",
    "        #                             'champion_10']\n",
    "        return df_master"
   ]
  },
  {
   "cell_type": "code",
   "execution_count": 4,
   "metadata": {
    "ExecuteTime": {
     "end_time": "2020-05-17T01:51:03.488916Z",
     "start_time": "2020-05-17T01:51:03.485918Z"
    }
   },
   "outputs": [],
   "source": [
    "riot = TFTRiotAPI()"
   ]
  },
  {
   "cell_type": "markdown",
   "metadata": {},
   "source": [
    "# Adicionando novos puuids"
   ]
  },
  {
   "cell_type": "code",
   "execution_count": 5,
   "metadata": {
    "ExecuteTime": {
     "end_time": "2020-05-15T20:32:10.981029Z",
     "start_time": "2020-05-15T20:32:10.772454Z"
    }
   },
   "outputs": [
    {
     "data": {
      "text/plain": [
       "0       BR1_1929504335\n",
       "1       BR1_1917107281\n",
       "2       BR1_1925813673\n",
       "3       BR1_1929034883\n",
       "4       BR1_1927766146\n",
       "             ...      \n",
       "6194    BR1_1933014711\n",
       "6195    BR1_1932950938\n",
       "6196    BR1_1932935031\n",
       "6197    BR1_1946164876\n",
       "6198    BR1_1933140534\n",
       "Name: matchid, Length: 6199, dtype: object"
      ]
     },
     "execution_count": 5,
     "metadata": {},
     "output_type": "execute_result"
    }
   ],
   "source": [
    "matchids_atual = pd.read_csv('matchids.csv')['matchid']\n",
    "matchids_atual"
   ]
  },
  {
   "cell_type": "code",
   "execution_count": 6,
   "metadata": {
    "ExecuteTime": {
     "end_time": "2020-05-15T20:32:18.129450Z",
     "start_time": "2020-05-15T20:32:18.092571Z"
    }
   },
   "outputs": [
    {
     "data": {
      "text/html": [
       "<div>\n",
       "<style scoped>\n",
       "    .dataframe tbody tr th:only-of-type {\n",
       "        vertical-align: middle;\n",
       "    }\n",
       "\n",
       "    .dataframe tbody tr th {\n",
       "        vertical-align: top;\n",
       "    }\n",
       "\n",
       "    .dataframe thead th {\n",
       "        text-align: right;\n",
       "    }\n",
       "</style>\n",
       "<table border=\"1\" class=\"dataframe\">\n",
       "  <thead>\n",
       "    <tr style=\"text-align: right;\">\n",
       "      <th></th>\n",
       "      <th>puuid</th>\n",
       "    </tr>\n",
       "  </thead>\n",
       "  <tbody>\n",
       "    <tr>\n",
       "      <th>0</th>\n",
       "      <td>M38b7eC1_Qp2WSJgAi9F3Sd8N07mSMoNxml_TLcjBVRP5M...</td>\n",
       "    </tr>\n",
       "    <tr>\n",
       "      <th>1</th>\n",
       "      <td>wpKYtw4TqiWFEqkf5bTEb3GPb4ts3cO2Kqw2t4E_7-yOya...</td>\n",
       "    </tr>\n",
       "    <tr>\n",
       "      <th>2</th>\n",
       "      <td>Ql2lf25SCGPkTx6FB1mYNP0YkfjnIQYpT8y4fMPwnaYtAY...</td>\n",
       "    </tr>\n",
       "    <tr>\n",
       "      <th>3</th>\n",
       "      <td>XbTawWZCXlhyVxw-1GGk77wOIJHMnBx7yPl6fqAl02Yd73...</td>\n",
       "    </tr>\n",
       "    <tr>\n",
       "      <th>4</th>\n",
       "      <td>ioMFXi24_6KA-0VOmhnkEYPIpLKufqo3wKGpsEqSHNle88...</td>\n",
       "    </tr>\n",
       "    <tr>\n",
       "      <th>...</th>\n",
       "      <td>...</td>\n",
       "    </tr>\n",
       "    <tr>\n",
       "      <th>4908</th>\n",
       "      <td>98zIDX2yvpOK1ucfc1HWvB_DO5ZmNLMX0gdSYkun_qJHWP...</td>\n",
       "    </tr>\n",
       "    <tr>\n",
       "      <th>4909</th>\n",
       "      <td>Xr17S4_7HSgWvyyLtTd0OaWwv_DEQmfB_9okWjyRtaDyLc...</td>\n",
       "    </tr>\n",
       "    <tr>\n",
       "      <th>4910</th>\n",
       "      <td>OOdIosU1cLGV5o57fEWxZnos5lmYC-Oh02DEa2cj1OBghN...</td>\n",
       "    </tr>\n",
       "    <tr>\n",
       "      <th>4911</th>\n",
       "      <td>Wb3hQuUoE1He97iCrZlUZB2SEdDmC__lDCbLrGa6F3PWnq...</td>\n",
       "    </tr>\n",
       "    <tr>\n",
       "      <th>4912</th>\n",
       "      <td>25mNqGDhHhM7BxQNyEWBWkB_eWnCH03TCZEZq-EQ3kcloe...</td>\n",
       "    </tr>\n",
       "  </tbody>\n",
       "</table>\n",
       "<p>4913 rows × 1 columns</p>\n",
       "</div>"
      ],
      "text/plain": [
       "                                                  puuid\n",
       "0     M38b7eC1_Qp2WSJgAi9F3Sd8N07mSMoNxml_TLcjBVRP5M...\n",
       "1     wpKYtw4TqiWFEqkf5bTEb3GPb4ts3cO2Kqw2t4E_7-yOya...\n",
       "2     Ql2lf25SCGPkTx6FB1mYNP0YkfjnIQYpT8y4fMPwnaYtAY...\n",
       "3     XbTawWZCXlhyVxw-1GGk77wOIJHMnBx7yPl6fqAl02Yd73...\n",
       "4     ioMFXi24_6KA-0VOmhnkEYPIpLKufqo3wKGpsEqSHNle88...\n",
       "...                                                 ...\n",
       "4908  98zIDX2yvpOK1ucfc1HWvB_DO5ZmNLMX0gdSYkun_qJHWP...\n",
       "4909  Xr17S4_7HSgWvyyLtTd0OaWwv_DEQmfB_9okWjyRtaDyLc...\n",
       "4910  OOdIosU1cLGV5o57fEWxZnos5lmYC-Oh02DEa2cj1OBghN...\n",
       "4911  Wb3hQuUoE1He97iCrZlUZB2SEdDmC__lDCbLrGa6F3PWnq...\n",
       "4912  25mNqGDhHhM7BxQNyEWBWkB_eWnCH03TCZEZq-EQ3kcloe...\n",
       "\n",
       "[4913 rows x 1 columns]"
      ]
     },
     "execution_count": 6,
     "metadata": {},
     "output_type": "execute_result"
    }
   ],
   "source": [
    "puuids_new = pd.read_csv('puuids.csv')\n",
    "puuids_new"
   ]
  },
  {
   "cell_type": "code",
   "execution_count": 13,
   "metadata": {
    "ExecuteTime": {
     "end_time": "2020-05-15T20:38:45.281410Z",
     "start_time": "2020-05-15T20:32:21.715507Z"
    },
    "scrolled": true
   },
   "outputs": [
    {
     "name": "stderr",
     "output_type": "stream",
     "text": [
      " 14%|█▍        | 885/6199 [39:40<3:54:03,  2.64s/it]"
     ]
    },
    {
     "name": "stdout",
     "output_type": "stream",
     "text": [
      "Error in matchid: BR1_1926540722\n"
     ]
    },
    {
     "name": "stderr",
     "output_type": "stream",
     "text": [
      " 34%|███▍      | 2112/6199 [1:37:44<2:48:05,  2.47s/it] "
     ]
    },
    {
     "name": "stdout",
     "output_type": "stream",
     "text": [
      "Error in matchid: BR1_1921244640\n"
     ]
    },
    {
     "name": "stderr",
     "output_type": "stream",
     "text": [
      " 43%|████▎     | 2664/6199 [2:03:01<2:43:34,  2.78s/it]"
     ]
    },
    {
     "name": "stdout",
     "output_type": "stream",
     "text": [
      "Error in matchid: BR1_1925901053\n"
     ]
    },
    {
     "name": "stderr",
     "output_type": "stream",
     "text": [
      " 67%|██████▋   | 4139/6199 [3:08:53<1:29:00,  2.59s/it]"
     ]
    },
    {
     "name": "stdout",
     "output_type": "stream",
     "text": [
      "Error in matchid: BR1_1926542364\n"
     ]
    },
    {
     "name": "stderr",
     "output_type": "stream",
     "text": [
      " 70%|██████▉   | 4329/6199 [3:17:19<2:26:53,  4.71s/it]"
     ]
    },
    {
     "name": "stdout",
     "output_type": "stream",
     "text": [
      "Error in matchid: BR1_1924967778\n"
     ]
    },
    {
     "name": "stderr",
     "output_type": "stream",
     "text": [
      " 71%|███████   | 4399/6199 [3:20:21<1:14:27,  2.48s/it]"
     ]
    },
    {
     "name": "stdout",
     "output_type": "stream",
     "text": [
      "Error in matchid: BR1_1926509962\n"
     ]
    },
    {
     "name": "stderr",
     "output_type": "stream",
     "text": [
      " 74%|███████▍  | 4605/6199 [3:29:34<1:09:46,  2.63s/it]"
     ]
    },
    {
     "name": "stdout",
     "output_type": "stream",
     "text": [
      "Error in matchid: BR1_1924976674\n"
     ]
    },
    {
     "name": "stderr",
     "output_type": "stream",
     "text": [
      "100%|██████████| 6199/6199 [4:40:56<00:00,  2.72s/it]  \n"
     ]
    }
   ],
   "source": [
    "for i in tqdm(matchids_atual):\n",
    "    try:\n",
    "        intermediate = riot.match_participants(key = key, matchid = i)\n",
    "        for j in intermediate:\n",
    "            puuids_new = puuids_new.append({'puuid' : j}, ignore_index = True)\n",
    "    except:\n",
    "        print('Error in matchid:', i)\n",
    "        \n",
    "    puuids_new.drop_duplicates().to_csv('puuids.csv', index = False)\n",
    "    time.sleep(1)"
   ]
  },
  {
   "cell_type": "code",
   "execution_count": 16,
   "metadata": {
    "ExecuteTime": {
     "end_time": "2020-05-15T20:38:51.159606Z",
     "start_time": "2020-05-15T20:38:51.143087Z"
    },
    "scrolled": true
   },
   "outputs": [
    {
     "data": {
      "text/html": [
       "<div>\n",
       "<style scoped>\n",
       "    .dataframe tbody tr th:only-of-type {\n",
       "        vertical-align: middle;\n",
       "    }\n",
       "\n",
       "    .dataframe tbody tr th {\n",
       "        vertical-align: top;\n",
       "    }\n",
       "\n",
       "    .dataframe thead th {\n",
       "        text-align: right;\n",
       "    }\n",
       "</style>\n",
       "<table border=\"1\" class=\"dataframe\">\n",
       "  <thead>\n",
       "    <tr style=\"text-align: right;\">\n",
       "      <th></th>\n",
       "      <th>puuid</th>\n",
       "    </tr>\n",
       "  </thead>\n",
       "  <tbody>\n",
       "    <tr>\n",
       "      <th>0</th>\n",
       "      <td>M38b7eC1_Qp2WSJgAi9F3Sd8N07mSMoNxml_TLcjBVRP5M...</td>\n",
       "    </tr>\n",
       "    <tr>\n",
       "      <th>1</th>\n",
       "      <td>wpKYtw4TqiWFEqkf5bTEb3GPb4ts3cO2Kqw2t4E_7-yOya...</td>\n",
       "    </tr>\n",
       "    <tr>\n",
       "      <th>2</th>\n",
       "      <td>Ql2lf25SCGPkTx6FB1mYNP0YkfjnIQYpT8y4fMPwnaYtAY...</td>\n",
       "    </tr>\n",
       "    <tr>\n",
       "      <th>3</th>\n",
       "      <td>XbTawWZCXlhyVxw-1GGk77wOIJHMnBx7yPl6fqAl02Yd73...</td>\n",
       "    </tr>\n",
       "    <tr>\n",
       "      <th>4</th>\n",
       "      <td>ioMFXi24_6KA-0VOmhnkEYPIpLKufqo3wKGpsEqSHNle88...</td>\n",
       "    </tr>\n",
       "    <tr>\n",
       "      <th>...</th>\n",
       "      <td>...</td>\n",
       "    </tr>\n",
       "    <tr>\n",
       "      <th>54472</th>\n",
       "      <td>w0qlMfBgnhgjxRUJGtlMvzIWbw_aB3FTinp0DbuzdLCTQI...</td>\n",
       "    </tr>\n",
       "    <tr>\n",
       "      <th>54473</th>\n",
       "      <td>QitA-RAz7MFGT0uAdViDpejn_TOSl4aE-FWpbjWlHAxte0...</td>\n",
       "    </tr>\n",
       "    <tr>\n",
       "      <th>54474</th>\n",
       "      <td>9xpTev6W9WZh8WjZPWEC93O6UN_yM41S1HPWsVEb2eFZnZ...</td>\n",
       "    </tr>\n",
       "    <tr>\n",
       "      <th>54484</th>\n",
       "      <td>giRV7UPwE009JNtBnIEbqZ9WH7BUaztmxwK-qCoaAYN3xX...</td>\n",
       "    </tr>\n",
       "    <tr>\n",
       "      <th>54490</th>\n",
       "      <td>yj1cIjidZWqc3FKoNctp3MBHVWzujoMJiQFvY_yatwsDUD...</td>\n",
       "    </tr>\n",
       "  </tbody>\n",
       "</table>\n",
       "<p>18533 rows × 1 columns</p>\n",
       "</div>"
      ],
      "text/plain": [
       "                                                   puuid\n",
       "0      M38b7eC1_Qp2WSJgAi9F3Sd8N07mSMoNxml_TLcjBVRP5M...\n",
       "1      wpKYtw4TqiWFEqkf5bTEb3GPb4ts3cO2Kqw2t4E_7-yOya...\n",
       "2      Ql2lf25SCGPkTx6FB1mYNP0YkfjnIQYpT8y4fMPwnaYtAY...\n",
       "3      XbTawWZCXlhyVxw-1GGk77wOIJHMnBx7yPl6fqAl02Yd73...\n",
       "4      ioMFXi24_6KA-0VOmhnkEYPIpLKufqo3wKGpsEqSHNle88...\n",
       "...                                                  ...\n",
       "54472  w0qlMfBgnhgjxRUJGtlMvzIWbw_aB3FTinp0DbuzdLCTQI...\n",
       "54473  QitA-RAz7MFGT0uAdViDpejn_TOSl4aE-FWpbjWlHAxte0...\n",
       "54474  9xpTev6W9WZh8WjZPWEC93O6UN_yM41S1HPWsVEb2eFZnZ...\n",
       "54484  giRV7UPwE009JNtBnIEbqZ9WH7BUaztmxwK-qCoaAYN3xX...\n",
       "54490  yj1cIjidZWqc3FKoNctp3MBHVWzujoMJiQFvY_yatwsDUD...\n",
       "\n",
       "[18533 rows x 1 columns]"
      ]
     },
     "execution_count": 16,
     "metadata": {},
     "output_type": "execute_result"
    }
   ],
   "source": [
    "puuids_new.drop_duplicates()"
   ]
  },
  {
   "cell_type": "code",
   "execution_count": 17,
   "metadata": {},
   "outputs": [
    {
     "data": {
      "text/html": [
       "<div>\n",
       "<style scoped>\n",
       "    .dataframe tbody tr th:only-of-type {\n",
       "        vertical-align: middle;\n",
       "    }\n",
       "\n",
       "    .dataframe tbody tr th {\n",
       "        vertical-align: top;\n",
       "    }\n",
       "\n",
       "    .dataframe thead th {\n",
       "        text-align: right;\n",
       "    }\n",
       "</style>\n",
       "<table border=\"1\" class=\"dataframe\">\n",
       "  <thead>\n",
       "    <tr style=\"text-align: right;\">\n",
       "      <th></th>\n",
       "      <th>puuid</th>\n",
       "    </tr>\n",
       "  </thead>\n",
       "  <tbody>\n",
       "    <tr>\n",
       "      <th>0</th>\n",
       "      <td>M38b7eC1_Qp2WSJgAi9F3Sd8N07mSMoNxml_TLcjBVRP5M...</td>\n",
       "    </tr>\n",
       "    <tr>\n",
       "      <th>1</th>\n",
       "      <td>wpKYtw4TqiWFEqkf5bTEb3GPb4ts3cO2Kqw2t4E_7-yOya...</td>\n",
       "    </tr>\n",
       "    <tr>\n",
       "      <th>2</th>\n",
       "      <td>Ql2lf25SCGPkTx6FB1mYNP0YkfjnIQYpT8y4fMPwnaYtAY...</td>\n",
       "    </tr>\n",
       "    <tr>\n",
       "      <th>3</th>\n",
       "      <td>XbTawWZCXlhyVxw-1GGk77wOIJHMnBx7yPl6fqAl02Yd73...</td>\n",
       "    </tr>\n",
       "    <tr>\n",
       "      <th>4</th>\n",
       "      <td>ioMFXi24_6KA-0VOmhnkEYPIpLKufqo3wKGpsEqSHNle88...</td>\n",
       "    </tr>\n",
       "    <tr>\n",
       "      <th>...</th>\n",
       "      <td>...</td>\n",
       "    </tr>\n",
       "    <tr>\n",
       "      <th>18528</th>\n",
       "      <td>w0qlMfBgnhgjxRUJGtlMvzIWbw_aB3FTinp0DbuzdLCTQI...</td>\n",
       "    </tr>\n",
       "    <tr>\n",
       "      <th>18529</th>\n",
       "      <td>QitA-RAz7MFGT0uAdViDpejn_TOSl4aE-FWpbjWlHAxte0...</td>\n",
       "    </tr>\n",
       "    <tr>\n",
       "      <th>18530</th>\n",
       "      <td>9xpTev6W9WZh8WjZPWEC93O6UN_yM41S1HPWsVEb2eFZnZ...</td>\n",
       "    </tr>\n",
       "    <tr>\n",
       "      <th>18531</th>\n",
       "      <td>giRV7UPwE009JNtBnIEbqZ9WH7BUaztmxwK-qCoaAYN3xX...</td>\n",
       "    </tr>\n",
       "    <tr>\n",
       "      <th>18532</th>\n",
       "      <td>yj1cIjidZWqc3FKoNctp3MBHVWzujoMJiQFvY_yatwsDUD...</td>\n",
       "    </tr>\n",
       "  </tbody>\n",
       "</table>\n",
       "<p>18533 rows × 1 columns</p>\n",
       "</div>"
      ],
      "text/plain": [
       "                                                   puuid\n",
       "0      M38b7eC1_Qp2WSJgAi9F3Sd8N07mSMoNxml_TLcjBVRP5M...\n",
       "1      wpKYtw4TqiWFEqkf5bTEb3GPb4ts3cO2Kqw2t4E_7-yOya...\n",
       "2      Ql2lf25SCGPkTx6FB1mYNP0YkfjnIQYpT8y4fMPwnaYtAY...\n",
       "3      XbTawWZCXlhyVxw-1GGk77wOIJHMnBx7yPl6fqAl02Yd73...\n",
       "4      ioMFXi24_6KA-0VOmhnkEYPIpLKufqo3wKGpsEqSHNle88...\n",
       "...                                                  ...\n",
       "18528  w0qlMfBgnhgjxRUJGtlMvzIWbw_aB3FTinp0DbuzdLCTQI...\n",
       "18529  QitA-RAz7MFGT0uAdViDpejn_TOSl4aE-FWpbjWlHAxte0...\n",
       "18530  9xpTev6W9WZh8WjZPWEC93O6UN_yM41S1HPWsVEb2eFZnZ...\n",
       "18531  giRV7UPwE009JNtBnIEbqZ9WH7BUaztmxwK-qCoaAYN3xX...\n",
       "18532  yj1cIjidZWqc3FKoNctp3MBHVWzujoMJiQFvY_yatwsDUD...\n",
       "\n",
       "[18533 rows x 1 columns]"
      ]
     },
     "execution_count": 17,
     "metadata": {},
     "output_type": "execute_result"
    }
   ],
   "source": [
    "pd.read_csv('puuids.csv')"
   ]
  },
  {
   "cell_type": "code",
   "execution_count": null,
   "metadata": {},
   "outputs": [],
   "source": []
  },
  {
   "cell_type": "markdown",
   "metadata": {},
   "source": [
    "# Adicionando novos matchids"
   ]
  },
  {
   "cell_type": "code",
   "execution_count": 18,
   "metadata": {
    "ExecuteTime": {
     "end_time": "2020-05-17T01:57:00.216715Z",
     "start_time": "2020-05-17T01:57:00.133763Z"
    }
   },
   "outputs": [
    {
     "data": {
      "text/plain": [
       "0        M38b7eC1_Qp2WSJgAi9F3Sd8N07mSMoNxml_TLcjBVRP5M...\n",
       "1        wpKYtw4TqiWFEqkf5bTEb3GPb4ts3cO2Kqw2t4E_7-yOya...\n",
       "2        Ql2lf25SCGPkTx6FB1mYNP0YkfjnIQYpT8y4fMPwnaYtAY...\n",
       "3        XbTawWZCXlhyVxw-1GGk77wOIJHMnBx7yPl6fqAl02Yd73...\n",
       "4        ioMFXi24_6KA-0VOmhnkEYPIpLKufqo3wKGpsEqSHNle88...\n",
       "                               ...                        \n",
       "18528    w0qlMfBgnhgjxRUJGtlMvzIWbw_aB3FTinp0DbuzdLCTQI...\n",
       "18529    QitA-RAz7MFGT0uAdViDpejn_TOSl4aE-FWpbjWlHAxte0...\n",
       "18530    9xpTev6W9WZh8WjZPWEC93O6UN_yM41S1HPWsVEb2eFZnZ...\n",
       "18531    giRV7UPwE009JNtBnIEbqZ9WH7BUaztmxwK-qCoaAYN3xX...\n",
       "18532    yj1cIjidZWqc3FKoNctp3MBHVWzujoMJiQFvY_yatwsDUD...\n",
       "Name: puuid, Length: 18533, dtype: object"
      ]
     },
     "execution_count": 18,
     "metadata": {},
     "output_type": "execute_result"
    }
   ],
   "source": [
    "puuids = pd.read_csv('puuids.csv')['puuid']\n",
    "puuids"
   ]
  },
  {
   "cell_type": "code",
   "execution_count": 19,
   "metadata": {
    "ExecuteTime": {
     "end_time": "2020-05-17T01:57:07.645389Z",
     "start_time": "2020-05-17T01:57:07.629401Z"
    }
   },
   "outputs": [
    {
     "data": {
      "text/html": [
       "<div>\n",
       "<style scoped>\n",
       "    .dataframe tbody tr th:only-of-type {\n",
       "        vertical-align: middle;\n",
       "    }\n",
       "\n",
       "    .dataframe tbody tr th {\n",
       "        vertical-align: top;\n",
       "    }\n",
       "\n",
       "    .dataframe thead th {\n",
       "        text-align: right;\n",
       "    }\n",
       "</style>\n",
       "<table border=\"1\" class=\"dataframe\">\n",
       "  <thead>\n",
       "    <tr style=\"text-align: right;\">\n",
       "      <th></th>\n",
       "      <th>matchid</th>\n",
       "    </tr>\n",
       "  </thead>\n",
       "  <tbody>\n",
       "    <tr>\n",
       "      <th>0</th>\n",
       "      <td>BR1_1929504335</td>\n",
       "    </tr>\n",
       "    <tr>\n",
       "      <th>1</th>\n",
       "      <td>BR1_1917107281</td>\n",
       "    </tr>\n",
       "    <tr>\n",
       "      <th>2</th>\n",
       "      <td>BR1_1925813673</td>\n",
       "    </tr>\n",
       "    <tr>\n",
       "      <th>3</th>\n",
       "      <td>BR1_1929034883</td>\n",
       "    </tr>\n",
       "    <tr>\n",
       "      <th>4</th>\n",
       "      <td>BR1_1927766146</td>\n",
       "    </tr>\n",
       "    <tr>\n",
       "      <th>...</th>\n",
       "      <td>...</td>\n",
       "    </tr>\n",
       "    <tr>\n",
       "      <th>6194</th>\n",
       "      <td>BR1_1933014711</td>\n",
       "    </tr>\n",
       "    <tr>\n",
       "      <th>6195</th>\n",
       "      <td>BR1_1932950938</td>\n",
       "    </tr>\n",
       "    <tr>\n",
       "      <th>6196</th>\n",
       "      <td>BR1_1932935031</td>\n",
       "    </tr>\n",
       "    <tr>\n",
       "      <th>6197</th>\n",
       "      <td>BR1_1946164876</td>\n",
       "    </tr>\n",
       "    <tr>\n",
       "      <th>6198</th>\n",
       "      <td>BR1_1933140534</td>\n",
       "    </tr>\n",
       "  </tbody>\n",
       "</table>\n",
       "<p>6199 rows × 1 columns</p>\n",
       "</div>"
      ],
      "text/plain": [
       "             matchid\n",
       "0     BR1_1929504335\n",
       "1     BR1_1917107281\n",
       "2     BR1_1925813673\n",
       "3     BR1_1929034883\n",
       "4     BR1_1927766146\n",
       "...              ...\n",
       "6194  BR1_1933014711\n",
       "6195  BR1_1932950938\n",
       "6196  BR1_1932935031\n",
       "6197  BR1_1946164876\n",
       "6198  BR1_1933140534\n",
       "\n",
       "[6199 rows x 1 columns]"
      ]
     },
     "execution_count": 19,
     "metadata": {},
     "output_type": "execute_result"
    }
   ],
   "source": [
    "matchids_new = pd.read_csv('matchids.csv')\n",
    "matchids_new"
   ]
  },
  {
   "cell_type": "code",
   "execution_count": 20,
   "metadata": {
    "ExecuteTime": {
     "end_time": "2020-05-15T20:40:56.138796Z",
     "start_time": "2020-05-15T20:39:28.323587Z"
    }
   },
   "outputs": [
    {
     "name": "stderr",
     "output_type": "stream",
     "text": [
      "100%|██████████| 18533/18533 [15:38:58<00:00,  3.04s/it]  \n"
     ]
    }
   ],
   "source": [
    "for i in tqdm(puuids):\n",
    "    try:\n",
    "        intermediate = riot.match_list(key, i)\n",
    "        time.sleep(1)\n",
    "        for j in intermediate:\n",
    "            matchids_new = matchids_new.append({'matchid' : j}, ignore_index = True)\n",
    "    except:\n",
    "        print('Error in puuid:', i)\n",
    "    \n",
    "    matchids_new.drop_duplicates().to_csv('matchids.csv', index = False)"
   ]
  },
  {
   "cell_type": "code",
   "execution_count": 22,
   "metadata": {
    "ExecuteTime": {
     "end_time": "2020-05-15T20:41:00.488773Z",
     "start_time": "2020-05-15T20:41:00.473777Z"
    }
   },
   "outputs": [
    {
     "data": {
      "text/html": [
       "<div>\n",
       "<style scoped>\n",
       "    .dataframe tbody tr th:only-of-type {\n",
       "        vertical-align: middle;\n",
       "    }\n",
       "\n",
       "    .dataframe tbody tr th {\n",
       "        vertical-align: top;\n",
       "    }\n",
       "\n",
       "    .dataframe thead th {\n",
       "        text-align: right;\n",
       "    }\n",
       "</style>\n",
       "<table border=\"1\" class=\"dataframe\">\n",
       "  <thead>\n",
       "    <tr style=\"text-align: right;\">\n",
       "      <th></th>\n",
       "      <th>matchid</th>\n",
       "    </tr>\n",
       "  </thead>\n",
       "  <tbody>\n",
       "    <tr>\n",
       "      <th>0</th>\n",
       "      <td>BR1_1929504335</td>\n",
       "    </tr>\n",
       "    <tr>\n",
       "      <th>1</th>\n",
       "      <td>BR1_1917107281</td>\n",
       "    </tr>\n",
       "    <tr>\n",
       "      <th>2</th>\n",
       "      <td>BR1_1925813673</td>\n",
       "    </tr>\n",
       "    <tr>\n",
       "      <th>3</th>\n",
       "      <td>BR1_1929034883</td>\n",
       "    </tr>\n",
       "    <tr>\n",
       "      <th>4</th>\n",
       "      <td>BR1_1927766146</td>\n",
       "    </tr>\n",
       "    <tr>\n",
       "      <th>...</th>\n",
       "      <td>...</td>\n",
       "    </tr>\n",
       "    <tr>\n",
       "      <th>150496</th>\n",
       "      <td>BR1_1905789613</td>\n",
       "    </tr>\n",
       "    <tr>\n",
       "      <th>150497</th>\n",
       "      <td>BR1_1905624086</td>\n",
       "    </tr>\n",
       "    <tr>\n",
       "      <th>150498</th>\n",
       "      <td>BR1_1904733121</td>\n",
       "    </tr>\n",
       "    <tr>\n",
       "      <th>150499</th>\n",
       "      <td>BR1_1904627118</td>\n",
       "    </tr>\n",
       "    <tr>\n",
       "      <th>150500</th>\n",
       "      <td>status</td>\n",
       "    </tr>\n",
       "  </tbody>\n",
       "</table>\n",
       "<p>108422 rows × 1 columns</p>\n",
       "</div>"
      ],
      "text/plain": [
       "               matchid\n",
       "0       BR1_1929504335\n",
       "1       BR1_1917107281\n",
       "2       BR1_1925813673\n",
       "3       BR1_1929034883\n",
       "4       BR1_1927766146\n",
       "...                ...\n",
       "150496  BR1_1905789613\n",
       "150497  BR1_1905624086\n",
       "150498  BR1_1904733121\n",
       "150499  BR1_1904627118\n",
       "150500          status\n",
       "\n",
       "[108422 rows x 1 columns]"
      ]
     },
     "execution_count": 22,
     "metadata": {},
     "output_type": "execute_result"
    }
   ],
   "source": [
    "matchids_new.drop_duplicates()"
   ]
  },
  {
   "cell_type": "code",
   "execution_count": null,
   "metadata": {},
   "outputs": [],
   "source": []
  },
  {
   "cell_type": "code",
   "execution_count": null,
   "metadata": {},
   "outputs": [],
   "source": []
  },
  {
   "cell_type": "code",
   "execution_count": null,
   "metadata": {},
   "outputs": [],
   "source": []
  },
  {
   "cell_type": "markdown",
   "metadata": {},
   "source": [
    "# Adicionando novas match_info"
   ]
  },
  {
   "cell_type": "code",
   "execution_count": null,
   "metadata": {
    "ExecuteTime": {
     "end_time": "2020-05-17T01:52:17.862908Z",
     "start_time": "2020-05-17T01:52:17.851907Z"
    }
   },
   "outputs": [],
   "source": [
    "matchids = pd.read_csv('matchids.csv')"
   ]
  },
  {
   "cell_type": "code",
   "execution_count": null,
   "metadata": {
    "ExecuteTime": {
     "end_time": "2020-05-17T01:56:38.043025Z",
     "start_time": "2020-05-17T01:56:38.021038Z"
    }
   },
   "outputs": [],
   "source": [
    "match_info = pd.read_csv('match_info.csv')\n",
    "match_info"
   ]
  },
  {
   "cell_type": "code",
   "execution_count": null,
   "metadata": {
    "ExecuteTime": {
     "end_time": "2020-05-17T01:56:27.059639Z",
     "start_time": "2020-05-17T01:54:14.095914Z"
    }
   },
   "outputs": [],
   "source": [
    "for i in tqdm(matchids['matchid']):\n",
    "    try:\n",
    "        intermediate = riot.match_info(key, i)\n",
    "        match_info = match_info.append(intermediate, ignore_index = True)\n",
    "        match_info.drop_duplicates().to_csv('match_info.csv', index = False)\n",
    "    except:\n",
    "        print('Error in matchid:', i)\n",
    "    \n",
    "    time.sleep(0.5)"
   ]
  },
  {
   "cell_type": "code",
   "execution_count": null,
   "metadata": {
    "ExecuteTime": {
     "end_time": "2020-05-17T01:56:30.518198Z",
     "start_time": "2020-05-17T01:56:30.467228Z"
    }
   },
   "outputs": [],
   "source": [
    "match_info"
   ]
  },
  {
   "cell_type": "code",
   "execution_count": null,
   "metadata": {},
   "outputs": [],
   "source": []
  }
 ],
 "metadata": {
  "kernelspec": {
   "display_name": "Python 3",
   "language": "python",
   "name": "python3"
  },
  "language_info": {
   "codemirror_mode": {
    "name": "ipython",
    "version": 3
   },
   "file_extension": ".py",
   "mimetype": "text/x-python",
   "name": "python",
   "nbconvert_exporter": "python",
   "pygments_lexer": "ipython3",
   "version": "3.7.6"
  },
  "toc": {
   "base_numbering": 1,
   "nav_menu": {},
   "number_sections": true,
   "sideBar": true,
   "skip_h1_title": false,
   "title_cell": "Table of Contents",
   "title_sidebar": "Contents",
   "toc_cell": false,
   "toc_position": {},
   "toc_section_display": true,
   "toc_window_display": false
  },
  "varInspector": {
   "cols": {
    "lenName": 16,
    "lenType": 16,
    "lenVar": 40
   },
   "kernels_config": {
    "python": {
     "delete_cmd_postfix": "",
     "delete_cmd_prefix": "del ",
     "library": "var_list.py",
     "varRefreshCmd": "print(var_dic_list())"
    },
    "r": {
     "delete_cmd_postfix": ") ",
     "delete_cmd_prefix": "rm(",
     "library": "var_list.r",
     "varRefreshCmd": "cat(var_dic_list()) "
    }
   },
   "types_to_exclude": [
    "module",
    "function",
    "builtin_function_or_method",
    "instance",
    "_Feature"
   ],
   "window_display": false
  }
 },
 "nbformat": 4,
 "nbformat_minor": 4
}
