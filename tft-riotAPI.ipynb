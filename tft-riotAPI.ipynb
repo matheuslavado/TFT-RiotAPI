{
 "cells": [
  {
   "cell_type": "code",
   "execution_count": 26,
   "metadata": {},
   "outputs": [],
   "source": [
    "import os\n",
    "import pandas as pd\n",
    "import requests\n",
    "import getpass\n",
    "from bs4 import BeautifulSoup\n",
    "import json\n",
    "from pandas.io.json import json_normalize"
   ]
  },
  {
   "cell_type": "code",
   "execution_count": 2,
   "metadata": {},
   "outputs": [
    {
     "name": "stdout",
     "output_type": "stream",
     "text": [
      "········\n"
     ]
    }
   ],
   "source": [
    "key = getpass.getpass()"
   ]
  },
  {
   "cell_type": "code",
   "execution_count": 3,
   "metadata": {},
   "outputs": [],
   "source": [
    "def summoner_name(key, name):\n",
    "    name = name.replace(' ', '%20')\n",
    "    request = requests.get(f'https://br1.api.riotgames.com/tft/summoner/v1/summoners/by-name/{name}?api_key={key}')\n",
    "    soup = BeautifulSoup(request.content)\n",
    "    return eval(soup.text)"
   ]
  },
  {
   "cell_type": "code",
   "execution_count": 4,
   "metadata": {},
   "outputs": [],
   "source": [
    " teste = summoner_name(key, 'Es mir egal')"
   ]
  },
  {
   "cell_type": "code",
   "execution_count": 5,
   "metadata": {},
   "outputs": [
    {
     "data": {
      "text/html": [
       "<div>\n",
       "<style scoped>\n",
       "    .dataframe tbody tr th:only-of-type {\n",
       "        vertical-align: middle;\n",
       "    }\n",
       "\n",
       "    .dataframe tbody tr th {\n",
       "        vertical-align: top;\n",
       "    }\n",
       "\n",
       "    .dataframe thead th {\n",
       "        text-align: right;\n",
       "    }\n",
       "</style>\n",
       "<table border=\"1\" class=\"dataframe\">\n",
       "  <thead>\n",
       "    <tr style=\"text-align: right;\">\n",
       "      <th></th>\n",
       "      <th>id</th>\n",
       "      <th>accountId</th>\n",
       "      <th>puuid</th>\n",
       "      <th>name</th>\n",
       "      <th>profileIconId</th>\n",
       "      <th>revisionDate</th>\n",
       "      <th>summonerLevel</th>\n",
       "    </tr>\n",
       "  </thead>\n",
       "  <tbody>\n",
       "    <tr>\n",
       "      <th>0</th>\n",
       "      <td>4GfUXIlMw5B040aVRVjxDlHVKkhiy4DP8T_HjdeuxG-QoV8</td>\n",
       "      <td>TYPXovIvidbWnodF3_pVrS-Uz7BKg-1x_7LWyVTvrLFV7-U</td>\n",
       "      <td>K3mbUvb-2PPBom5fdP5FBdn-2CUsQqy4t2wh-dmw-e55tv...</td>\n",
       "      <td>Es mir egal</td>\n",
       "      <td>4498</td>\n",
       "      <td>1587845371000</td>\n",
       "      <td>84</td>\n",
       "    </tr>\n",
       "  </tbody>\n",
       "</table>\n",
       "</div>"
      ],
      "text/plain": [
       "                                                id  \\\n",
       "0  4GfUXIlMw5B040aVRVjxDlHVKkhiy4DP8T_HjdeuxG-QoV8   \n",
       "\n",
       "                                         accountId  \\\n",
       "0  TYPXovIvidbWnodF3_pVrS-Uz7BKg-1x_7LWyVTvrLFV7-U   \n",
       "\n",
       "                                               puuid         name  \\\n",
       "0  K3mbUvb-2PPBom5fdP5FBdn-2CUsQqy4t2wh-dmw-e55tv...  Es mir egal   \n",
       "\n",
       "   profileIconId   revisionDate  summonerLevel  \n",
       "0           4498  1587845371000             84  "
      ]
     },
     "execution_count": 5,
     "metadata": {},
     "output_type": "execute_result"
    }
   ],
   "source": [
    "pd.DataFrame([teste])"
   ]
  },
  {
   "cell_type": "code",
   "execution_count": null,
   "metadata": {},
   "outputs": [],
   "source": []
  },
  {
   "cell_type": "code",
   "execution_count": null,
   "metadata": {},
   "outputs": [],
   "source": []
  },
  {
   "cell_type": "code",
   "execution_count": null,
   "metadata": {},
   "outputs": [],
   "source": []
  },
  {
   "cell_type": "code",
   "execution_count": 15,
   "metadata": {},
   "outputs": [],
   "source": [
    "def match_list(key, puuid, n = 30):\n",
    "    request = requests.get(f'https://americas.api.riotgames.com/tft/match/v1/matches/by-puuid/{puuid}/ids?count={n}&api_key={key}')\n",
    "    soup = BeautifulSoup(request.content)\n",
    "    return eval(soup.text)"
   ]
  },
  {
   "cell_type": "code",
   "execution_count": 16,
   "metadata": {
    "scrolled": true
   },
   "outputs": [
    {
     "data": {
      "text/plain": [
       "['BR1_1926730533',\n",
       " 'BR1_1926675398',\n",
       " 'BR1_1926670564',\n",
       " 'BR1_1926614700',\n",
       " 'BR1_1926538340',\n",
       " 'BR1_1926140313',\n",
       " 'BR1_1926073659',\n",
       " 'BR1_1926067196',\n",
       " 'BR1_1926063272',\n",
       " 'BR1_1925978166',\n",
       " 'BR1_1925750238',\n",
       " 'BR1_1925712925',\n",
       " 'BR1_1925627632',\n",
       " 'BR1_1925583474',\n",
       " 'BR1_1925376688',\n",
       " 'BR1_1925432251',\n",
       " 'BR1_1925266933',\n",
       " 'BR1_1925232809',\n",
       " 'BR1_1925207099',\n",
       " 'BR1_1919021209',\n",
       " 'BR1_1918904380',\n",
       " 'BR1_1918819128',\n",
       " 'BR1_1918810872',\n",
       " 'BR1_1918745440',\n",
       " 'BR1_1918760191',\n",
       " 'BR1_1918703027',\n",
       " 'BR1_1918570224',\n",
       " 'BR1_1918505797',\n",
       " 'BR1_1918435816',\n",
       " 'BR1_1918461173']"
      ]
     },
     "execution_count": 16,
     "metadata": {},
     "output_type": "execute_result"
    }
   ],
   "source": [
    "match_list(key, teste['puuid'])"
   ]
  },
  {
   "cell_type": "code",
   "execution_count": null,
   "metadata": {},
   "outputs": [],
   "source": []
  },
  {
   "cell_type": "code",
   "execution_count": null,
   "metadata": {},
   "outputs": [],
   "source": []
  },
  {
   "cell_type": "code",
   "execution_count": null,
   "metadata": {},
   "outputs": [],
   "source": []
  },
  {
   "cell_type": "code",
   "execution_count": 78,
   "metadata": {},
   "outputs": [],
   "source": [
    "def match_info(key, matchid):\n",
    "    '''Return a dataframe with some infos from the match (matchid, datetime, game lenght(s), game variation,\n",
    "    game version, number of the set).\n",
    "    \n",
    "    key = riot API-key\n",
    "    matchid = The id from a specific match of team fight tatics(TFT)'''\n",
    "    \n",
    "    request = requests.get(f'https://americas.api.riotgames.com/tft/match/v1/matches/{matchid}?api_key={key}')\n",
    "    soup = BeautifulSoup(request.content)\n",
    "    df = pd.DataFrame(pd.json_normalize(eval(soup.text)))\n",
    "    df2 = df[['metadata.match_id', 'info.game_datetime', 'info.game_length', 'info.game_variation',\n",
    "       'info.game_version', 'info.tft_set_number']]\n",
    "    df2.columns = [i.replace('metadata.', '').replace('info.', '') for i in df2.columns]\n",
    "    \n",
    "    return df2"
   ]
  },
  {
   "cell_type": "code",
   "execution_count": 79,
   "metadata": {
    "scrolled": true
   },
   "outputs": [
    {
     "data": {
      "text/html": [
       "<div>\n",
       "<style scoped>\n",
       "    .dataframe tbody tr th:only-of-type {\n",
       "        vertical-align: middle;\n",
       "    }\n",
       "\n",
       "    .dataframe tbody tr th {\n",
       "        vertical-align: top;\n",
       "    }\n",
       "\n",
       "    .dataframe thead th {\n",
       "        text-align: right;\n",
       "    }\n",
       "</style>\n",
       "<table border=\"1\" class=\"dataframe\">\n",
       "  <thead>\n",
       "    <tr style=\"text-align: right;\">\n",
       "      <th></th>\n",
       "      <th>match_id</th>\n",
       "      <th>game_datetime</th>\n",
       "      <th>game_length</th>\n",
       "      <th>game_variation</th>\n",
       "      <th>game_version</th>\n",
       "      <th>tft_set_number</th>\n",
       "    </tr>\n",
       "  </thead>\n",
       "  <tbody>\n",
       "    <tr>\n",
       "      <th>0</th>\n",
       "      <td>BR1_1926730533</td>\n",
       "      <td>1587870567039</td>\n",
       "      <td>2199.608887</td>\n",
       "      <td>TFT3_GameVariation_FreeNeekos</td>\n",
       "      <td>Version 10.8.317.8137 (Apr 17 2020/16:09:11) [...</td>\n",
       "      <td>3</td>\n",
       "    </tr>\n",
       "  </tbody>\n",
       "</table>\n",
       "</div>"
      ],
      "text/plain": [
       "         match_id  game_datetime  game_length                 game_variation  \\\n",
       "0  BR1_1926730533  1587870567039  2199.608887  TFT3_GameVariation_FreeNeekos   \n",
       "\n",
       "                                        game_version  tft_set_number  \n",
       "0  Version 10.8.317.8137 (Apr 17 2020/16:09:11) [...               3  "
      ]
     },
     "execution_count": 79,
     "metadata": {},
     "output_type": "execute_result"
    }
   ],
   "source": [
    "match_info(key, 'BR1_1926730533')"
   ]
  },
  {
   "cell_type": "code",
   "execution_count": null,
   "metadata": {},
   "outputs": [],
   "source": []
  },
  {
   "cell_type": "code",
   "execution_count": null,
   "metadata": {},
   "outputs": [],
   "source": []
  },
  {
   "cell_type": "code",
   "execution_count": null,
   "metadata": {},
   "outputs": [],
   "source": []
  },
  {
   "cell_type": "code",
   "execution_count": 74,
   "metadata": {},
   "outputs": [],
   "source": [
    "def match_participants(key, matchid):\n",
    "    '''Return a list with the puuid from the 8 participants of the match'''\n",
    "    \n",
    "    request = requests.get(f'https://americas.api.riotgames.com/tft/match/v1/matches/{matchid}?api_key={key}')\n",
    "    soup = BeautifulSoup(request.content)\n",
    "    df = pd.DataFrame(pd.json_normalize(eval(soup.text)))\n",
    "    return df.iloc[0,2]"
   ]
  },
  {
   "cell_type": "code",
   "execution_count": 75,
   "metadata": {},
   "outputs": [
    {
     "data": {
      "text/plain": [
       "['qYjGRXS83Z7LIC4c40Hk27k2ee6SrYKWhGOwdRbz2IjXf42FEWv-dvIcisNE9lEFbPwVzkCCJ34KRQ',\n",
       " 'ZOp977RUzO2rc4XXpC5LDmSW9FVPinsos54x01UvxLH98PpP3NYXmClEjBL7z1YWn1NsOFa9JXtPIg',\n",
       " 'BsmmhSCiK5vK67zbbMhAz2edViDJ0dvNlTuQOZQNcbu13xPKgDvxptOsdCmg3nfAfFl4wBy2YqtVAQ',\n",
       " 'Nd0RYeDsIefGnmlGA45x6zj-thg349ozYFcEobPFfROdqdBCF9Gs3SeWzIgqagknLSiDqgxEqqNUiw',\n",
       " 'VZV01cG8R-A-yZ5spGtEhMTOfsdVBZhf-4EDIkcEhgjb3M8botGBmNEa64FxmNGUxiHyydTByqVWyA',\n",
       " 'K3mbUvb-2PPBom5fdP5FBdn-2CUsQqy4t2wh-dmw-e55tv0nVirYpqo-AISeib2MLctqZ63zorohUg',\n",
       " 'yWg9adnTaYHLhXpyOgkDilt9Oyv80_n4-RlL19ZpQtnXpOWgHRcAsXcynltTP4w9hi0xhQ9VbK14Cg',\n",
       " 'OpAqJOjE1o8Y1l3cb50mh1iaUnDONPCzEZUm8fobWVot-6wBa8ltTlG6joXoyEYSqJ8ladkieMBW5g']"
      ]
     },
     "execution_count": 75,
     "metadata": {},
     "output_type": "execute_result"
    }
   ],
   "source": [
    "match_participants(key, 'BR1_1926730533')"
   ]
  }
 ],
 "metadata": {
  "kernelspec": {
   "display_name": "Python 3",
   "language": "python",
   "name": "python3"
  },
  "language_info": {
   "codemirror_mode": {
    "name": "ipython",
    "version": 3
   },
   "file_extension": ".py",
   "mimetype": "text/x-python",
   "name": "python",
   "nbconvert_exporter": "python",
   "pygments_lexer": "ipython3",
   "version": "3.7.6"
  }
 },
 "nbformat": 4,
 "nbformat_minor": 4
}
