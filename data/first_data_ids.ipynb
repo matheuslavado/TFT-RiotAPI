{
 "cells": [
  {
   "cell_type": "code",
   "execution_count": 3,
   "metadata": {
    "ExecuteTime": {
     "end_time": "2020-05-17T01:43:11.601384Z",
     "start_time": "2020-05-17T01:43:11.054636Z"
    }
   },
   "outputs": [],
   "source": [
    "import os\n",
    "import pandas as pd\n",
    "import requests\n",
    "import getpass\n",
    "from bs4 import BeautifulSoup\n",
    "import json\n",
    "import time\n",
    "from tqdm.auto import tqdm\n",
    "from datetime import datetime"
   ]
  },
  {
   "cell_type": "code",
   "execution_count": 5,
   "metadata": {
    "ExecuteTime": {
     "end_time": "2020-05-17T01:44:06.109972Z",
     "start_time": "2020-05-17T01:44:04.629822Z"
    }
   },
   "outputs": [
    {
     "name": "stdout",
     "output_type": "stream",
     "text": [
      "········\n"
     ]
    }
   ],
   "source": [
    "key = getpass.getpass()"
   ]
  },
  {
   "cell_type": "code",
   "execution_count": 6,
   "metadata": {
    "ExecuteTime": {
     "end_time": "2020-05-17T01:44:07.170766Z",
     "start_time": "2020-05-17T01:44:07.144780Z"
    }
   },
   "outputs": [],
   "source": [
    "class TFTRiotAPI:\n",
    "    def __init__(self):\n",
    "        pass\n",
    "    \n",
    "    def summoner_name(self, key, name):\n",
    "        name = name.replace(' ', '%20')\n",
    "        request = requests.get(f'https://br1.api.riotgames.com/tft/summoner/v1/summoners/by-name/{name}?api_key={key}')\n",
    "        return eval(request.content)\n",
    "    \n",
    "    def match_list(self, key, puuid, n = 30):\n",
    "        request = requests.get(f'https://americas.api.riotgames.com/tft/match/v1/matches/by-puuid/{puuid}/ids?count={n}&api_key={key}')\n",
    "        return eval(request.content)\n",
    "    \n",
    "    def match_info(self, key, matchid, unixtime = False):\n",
    "        '''Return a dataframe with some infos from the match (matchid, datetime, game lenght(s), game variation,\n",
    "        game version, number of the set).\n",
    "\n",
    "        key = riot API-key\n",
    "        matchid = The id from a specific match of team fight tatics(TFT)'''\n",
    "\n",
    "        request = requests.get(f'https://americas.api.riotgames.com/tft/match/v1/matches/{matchid}?api_key={key}')\n",
    "        df = pd.DataFrame(pd.json_normalize(eval(request.content)))\n",
    "        df2 = df[['metadata.match_id', 'info.game_datetime', 'info.game_length', 'info.game_variation',\n",
    "           'info.game_version', 'info.tft_set_number']]\n",
    "        df2.columns = [i.replace('metadata.', '').replace('info.', '') for i in df2.columns]\n",
    "        \n",
    "        y = df2.copy()\n",
    "        if unixtime == False:\n",
    "            x = df2['game_datetime'].apply(lambda x: pd.to_datetime(datetime.utcfromtimestamp(int(x)/1000).strftime('%Y-%m-%d %H:%M:%S')))\n",
    "            y = df2.copy()\n",
    "            y['game_datetime'] = x\n",
    "\n",
    "        return y\n",
    "    \n",
    "    def match_participants(self, key, matchid):\n",
    "        '''Return a list with the puuid from the 8 participants of the match'''\n",
    "\n",
    "        request = requests.get(f'https://americas.api.riotgames.com/tft/match/v1/matches/{matchid}?api_key={key}')\n",
    "        df = pd.DataFrame(pd.json_normalize(eval(request.content)))\n",
    "        return df.iloc[0,2]\n",
    "    \n",
    "    def match_results(self, key, matchid):\n",
    "        request = requests.get(f'https://americas.api.riotgames.com/tft/match/v1/matches/{matchid}?api_key={key}')\n",
    "        soup = BeautifulSoup(request.content)\n",
    "        df_master = pd.DataFrame(columns = ['match_id', 'gold_left', 'last_round', 'level', 'placement', 'players_eliminated', 'puuid',\n",
    "                                     'time_eliminated', 'total_damage_to_players', 'Set3_Blademaster', 'Blaster',\n",
    "                                     'Set3_Brawler', 'Set3_Celestial', 'Chrono', 'Cybernetic', 'DarkStar',\n",
    "                                     'Demolitionist', 'Infiltrator', 'ManaReaver', 'MechPilot',\n",
    "                                     'Mercenary', 'Set3_Mystic', 'Protector', 'Rebel', 'Sniper',\n",
    "                                     'SpacePirate', 'StarGuardian', 'Starship', 'Set3_Sorcerer', \n",
    "                                     'Valkyrie', 'Vanguard', 'Set3_Void', 'champion_1', 'champion_2', 'champion_3',\n",
    "                                     'champion_4', 'champion_5', 'champion_6', 'champion_7', 'champion_8', 'champion_9',\n",
    "                                     'champion_10'])\n",
    "\n",
    "        df_match = pd.DataFrame(pd.json_normalize(eval(soup.text)))\n",
    "        dict_players = df_match.iloc[0,-3]\n",
    "\n",
    "        for i in range(8):\n",
    "            info_player = pd.DataFrame([dict_players[i]])\n",
    "            df_master.loc[i, 'match_id'] = df_match.loc[0, 'metadata.match_id']\n",
    "            df_master.loc[i, 'gold_left'] = info_player.loc[0, 'gold_left']\n",
    "            df_master.loc[i, 'last_round'] = info_player.loc[0, 'last_round']\n",
    "            df_master.loc[i, 'level'] = info_player.loc[0, 'level']\n",
    "            df_master.loc[i, 'placement'] = info_player.loc[0, 'placement']\n",
    "            df_master.loc[i, 'players_eliminated'] = info_player.loc[0, 'players_eliminated']\n",
    "            df_master.loc[i, 'puuid'] = info_player.loc[0, 'puuid']\n",
    "            df_master.loc[i, 'time_eliminated'] = info_player.loc[0, 'time_eliminated']\n",
    "            df_master.loc[i, 'total_damage_to_players'] = info_player.loc[0, 'total_damage_to_players']\n",
    "\n",
    "            for j in range(len(info_player.iloc[0, -2])): ## nesta etapa ele adiciona os tipos e quantidade, possui um valor extra no dicio que causa um bug (TemplateTrait)\n",
    "                intermediate = pd.DataFrame(info_player.iloc[0, -2])\n",
    "                df_master.loc[i, intermediate['name'][j]] = intermediate['num_units'][j]\n",
    "\n",
    "            for k in range(len(info_player.iloc[0, -1])):\n",
    "                intermediate = pd.DataFrame(info_player.iloc[0, -1])        \n",
    "                df_master.loc[i, 'champion_' + str(k+1)] = (intermediate['character_id'][k] + '_' + str(intermediate['tier'][k])).replace('TFT3_', '')\n",
    "\n",
    "        #df_master.columns = ['match_id', 'gold_left', 'last_round', 'level', 'placement', 'players_eliminated', 'puuid',\n",
    "        #                             'time_eliminated', 'total_damage_to_players', 'blademaster_num', 'blaster_num',\n",
    "        #                             'brawler_num', 'celestial_num', 'chrono_num', 'cybernetic_num', 'dark_star_num',\n",
    "        #                             'demolitionist_num', 'infiltrator_num', 'mana_reaver_num', 'mech_pilot_num',\n",
    "        #                             'mercenary_num', 'mystic_num', 'protector_num', 'rebel_num', 'sniper_num',\n",
    "        #                             'space_pirate_num', 'star_guardian_num', 'starship_num', 'sorcerer_num', \n",
    "        #                             'valkyrie_num', 'vanguard_num', 'void_num', 'champion_1', 'champion_2', 'champion_3',\n",
    "        #                             'champion_4', 'champion_5', 'champion_6', 'champion_7', 'champion_8', 'champion_9',\n",
    "        #                             'champion_10']\n",
    "        return df_master"
   ]
  },
  {
   "cell_type": "code",
   "execution_count": 7,
   "metadata": {
    "ExecuteTime": {
     "end_time": "2020-05-17T01:44:08.450760Z",
     "start_time": "2020-05-17T01:44:08.446762Z"
    }
   },
   "outputs": [],
   "source": [
    "pd.set_option('display.max_columns', 999)"
   ]
  },
  {
   "cell_type": "code",
   "execution_count": 8,
   "metadata": {
    "ExecuteTime": {
     "end_time": "2020-05-17T01:44:09.572229Z",
     "start_time": "2020-05-17T01:44:09.570228Z"
    }
   },
   "outputs": [],
   "source": [
    "riot = TFTRiotAPI()"
   ]
  },
  {
   "cell_type": "code",
   "execution_count": 63,
   "metadata": {
    "ExecuteTime": {
     "end_time": "2020-05-16T21:37:41.908579Z",
     "start_time": "2020-05-16T21:37:40.968594Z"
    }
   },
   "outputs": [
    {
     "data": {
      "text/plain": [
       "'K3mbUvb-2PPBom5fdP5FBdn-2CUsQqy4t2wh-dmw-e55tv0nVirYpqo-AISeib2MLctqZ63zorohUg'"
      ]
     },
     "execution_count": 63,
     "metadata": {},
     "output_type": "execute_result"
    }
   ],
   "source": [
    "puuid_me = riot.summoner_name(key, 'Es mir egal')['puuid']\n",
    "puuid_me"
   ]
  },
  {
   "cell_type": "code",
   "execution_count": 64,
   "metadata": {
    "ExecuteTime": {
     "end_time": "2020-05-16T21:37:42.498232Z",
     "start_time": "2020-05-16T21:37:42.496216Z"
    }
   },
   "outputs": [],
   "source": [
    "match_list_master = []"
   ]
  },
  {
   "cell_type": "code",
   "execution_count": 8,
   "metadata": {},
   "outputs": [
    {
     "data": {
      "text/plain": [
       "['BR1_1932405958',\n",
       " 'BR1_1932041516',\n",
       " 'BR1_1931990138',\n",
       " 'BR1_1931763481',\n",
       " 'BR1_1930827974',\n",
       " 'BR1_1930769792',\n",
       " 'BR1_1930780175',\n",
       " 'BR1_1930744707',\n",
       " 'BR1_1929766171',\n",
       " 'BR1_1929751730',\n",
       " 'BR1_1929631786',\n",
       " 'BR1_1928808166',\n",
       " 'BR1_1928783006',\n",
       " 'BR1_1927689028',\n",
       " 'BR1_1927580618',\n",
       " 'BR1_1927468990',\n",
       " 'BR1_1927461391',\n",
       " 'BR1_1926730533',\n",
       " 'BR1_1926675398',\n",
       " 'BR1_1926670564',\n",
       " 'BR1_1926614700',\n",
       " 'BR1_1926538340',\n",
       " 'BR1_1926140313',\n",
       " 'BR1_1926073659',\n",
       " 'BR1_1926067196',\n",
       " 'BR1_1926063272',\n",
       " 'BR1_1925978166',\n",
       " 'BR1_1925750238',\n",
       " 'BR1_1925712925',\n",
       " 'BR1_1925627632']"
      ]
     },
     "execution_count": 8,
     "metadata": {},
     "output_type": "execute_result"
    }
   ],
   "source": [
    "match_list = riot.match_list(key, puuid_me)\n",
    "match_list"
   ]
  },
  {
   "cell_type": "code",
   "execution_count": 9,
   "metadata": {},
   "outputs": [],
   "source": [
    "puuid_list_master = []"
   ]
  },
  {
   "cell_type": "code",
   "execution_count": 10,
   "metadata": {},
   "outputs": [
    {
     "name": "stderr",
     "output_type": "stream",
     "text": [
      "100%|██████████| 30/30 [00:49<00:00,  1.64s/it]\n"
     ]
    }
   ],
   "source": [
    "for i in tqdm(match_list):\n",
    "    temp_list = riot.match_participants(key, i)\n",
    "    for i in temp_list:\n",
    "        puuid_list_master.append(i)"
   ]
  },
  {
   "cell_type": "code",
   "execution_count": 11,
   "metadata": {},
   "outputs": [
    {
     "name": "stderr",
     "output_type": "stream",
     "text": [
      "100%|██████████| 203/203 [04:43<00:00,  1.39s/it]\n"
     ]
    }
   ],
   "source": [
    "for i in tqdm(list(set(puuid_list_master))):\n",
    "    temp_list = riot.match_list(key, i)\n",
    "    for i in temp_list:\n",
    "        match_list_master.append(i)"
   ]
  },
  {
   "cell_type": "code",
   "execution_count": null,
   "metadata": {},
   "outputs": [],
   "source": []
  },
  {
   "cell_type": "code",
   "execution_count": null,
   "metadata": {},
   "outputs": [],
   "source": []
  },
  {
   "cell_type": "code",
   "execution_count": null,
   "metadata": {},
   "outputs": [],
   "source": []
  },
  {
   "cell_type": "code",
   "execution_count": null,
   "metadata": {},
   "outputs": [],
   "source": []
  },
  {
   "cell_type": "code",
   "execution_count": null,
   "metadata": {},
   "outputs": [],
   "source": []
  },
  {
   "cell_type": "code",
   "execution_count": null,
   "metadata": {},
   "outputs": [],
   "source": []
  },
  {
   "cell_type": "code",
   "execution_count": null,
   "metadata": {},
   "outputs": [],
   "source": []
  },
  {
   "cell_type": "code",
   "execution_count": 12,
   "metadata": {
    "ExecuteTime": {
     "end_time": "2020-05-17T01:46:01.413416Z",
     "start_time": "2020-05-17T01:46:01.402405Z"
    }
   },
   "outputs": [],
   "source": [
    "matchids = pd.read_csv('matchids.csv')"
   ]
  },
  {
   "cell_type": "code",
   "execution_count": 13,
   "metadata": {
    "ExecuteTime": {
     "end_time": "2020-05-17T01:46:02.084017Z",
     "start_time": "2020-05-17T01:46:02.066027Z"
    }
   },
   "outputs": [
    {
     "data": {
      "text/html": [
       "<div>\n",
       "<style scoped>\n",
       "    .dataframe tbody tr th:only-of-type {\n",
       "        vertical-align: middle;\n",
       "    }\n",
       "\n",
       "    .dataframe tbody tr th {\n",
       "        vertical-align: top;\n",
       "    }\n",
       "\n",
       "    .dataframe thead th {\n",
       "        text-align: right;\n",
       "    }\n",
       "</style>\n",
       "<table border=\"1\" class=\"dataframe\">\n",
       "  <thead>\n",
       "    <tr style=\"text-align: right;\">\n",
       "      <th></th>\n",
       "      <th>match_id</th>\n",
       "      <th>game_datetime</th>\n",
       "      <th>game_length</th>\n",
       "      <th>game_variation</th>\n",
       "      <th>game_version</th>\n",
       "      <th>tft_set_number</th>\n",
       "    </tr>\n",
       "  </thead>\n",
       "  <tbody>\n",
       "    <tr>\n",
       "      <th>0</th>\n",
       "      <td>BR1_1925627632</td>\n",
       "      <td>2020-04-25 02:46:13</td>\n",
       "      <td>2436.686523</td>\n",
       "      <td>TFT3_GameVariation_FreeRerolls</td>\n",
       "      <td>Version 10.8.317.8137 (Apr 17 2020/16:09:11) [...</td>\n",
       "      <td>3</td>\n",
       "    </tr>\n",
       "  </tbody>\n",
       "</table>\n",
       "</div>"
      ],
      "text/plain": [
       "         match_id        game_datetime  game_length  \\\n",
       "0  BR1_1925627632  2020-04-25 02:46:13  2436.686523   \n",
       "\n",
       "                   game_variation  \\\n",
       "0  TFT3_GameVariation_FreeRerolls   \n",
       "\n",
       "                                        game_version  tft_set_number  \n",
       "0  Version 10.8.317.8137 (Apr 17 2020/16:09:11) [...               3  "
      ]
     },
     "execution_count": 13,
     "metadata": {},
     "output_type": "execute_result"
    }
   ],
   "source": [
    "match_info = pd.read_csv('match_info.csv')\n",
    "match_info"
   ]
  },
  {
   "cell_type": "code",
   "execution_count": null,
   "metadata": {
    "ExecuteTime": {
     "start_time": "2020-05-17T01:46:03.941Z"
    },
    "scrolled": true
   },
   "outputs": [
    {
     "data": {
      "application/vnd.jupyter.widget-view+json": {
       "model_id": "e2a9a202e20b430eade3082b72fe0aa5",
       "version_major": 2,
       "version_minor": 0
      },
      "text/plain": [
       "HBox(children=(FloatProgress(value=0.0, max=6199.0), HTML(value='')))"
      ]
     },
     "metadata": {},
     "output_type": "display_data"
    }
   ],
   "source": [
    "for i in tqdm(matchids['matchid']):\n",
    "    try:\n",
    "        intermediate = riot.match_info(key, i)\n",
    "        match_info = match_info.append(intermediate, ignore_index = True)\n",
    "        match_info.drop_duplicates().to_csv('match_info.csv', index = False)\n",
    "    except:\n",
    "        pass\n",
    "    \n",
    "    time.sleep(0.5)"
   ]
  },
  {
   "cell_type": "code",
   "execution_count": 2,
   "metadata": {
    "ExecuteTime": {
     "end_time": "2020-05-17T01:43:01.062233Z",
     "start_time": "2020-05-17T01:43:01.052222Z"
    }
   },
   "outputs": [
    {
     "ename": "NameError",
     "evalue": "name 'match_info' is not defined",
     "output_type": "error",
     "traceback": [
      "\u001b[1;31m---------------------------------------------------------------------------\u001b[0m",
      "\u001b[1;31mNameError\u001b[0m                                 Traceback (most recent call last)",
      "\u001b[1;32m<ipython-input-2-8048db79f33d>\u001b[0m in \u001b[0;36m<module>\u001b[1;34m\u001b[0m\n\u001b[1;32m----> 1\u001b[1;33m \u001b[0mmatch_info\u001b[0m\u001b[1;33m.\u001b[0m\u001b[0mdrop_duplicates\u001b[0m\u001b[1;33m(\u001b[0m\u001b[1;33m)\u001b[0m\u001b[1;33m.\u001b[0m\u001b[0mto_csv\u001b[0m\u001b[1;33m(\u001b[0m\u001b[1;34m'match_info.csv'\u001b[0m\u001b[1;33m,\u001b[0m \u001b[0mindex\u001b[0m \u001b[1;33m=\u001b[0m \u001b[1;32mFalse\u001b[0m\u001b[1;33m)\u001b[0m\u001b[1;33m\u001b[0m\u001b[1;33m\u001b[0m\u001b[0m\n\u001b[0m",
      "\u001b[1;31mNameError\u001b[0m: name 'match_info' is not defined"
     ]
    }
   ],
   "source": [
    "match_info.drop_duplicates().to_csv('match_info.csv', index = False)\n"
   ]
  },
  {
   "cell_type": "code",
   "execution_count": 10,
   "metadata": {
    "ExecuteTime": {
     "end_time": "2020-05-17T01:45:00.332697Z",
     "start_time": "2020-05-17T01:45:00.321699Z"
    },
    "scrolled": true
   },
   "outputs": [
    {
     "data": {
      "text/html": [
       "<div>\n",
       "<style scoped>\n",
       "    .dataframe tbody tr th:only-of-type {\n",
       "        vertical-align: middle;\n",
       "    }\n",
       "\n",
       "    .dataframe tbody tr th {\n",
       "        vertical-align: top;\n",
       "    }\n",
       "\n",
       "    .dataframe thead th {\n",
       "        text-align: right;\n",
       "    }\n",
       "</style>\n",
       "<table border=\"1\" class=\"dataframe\">\n",
       "  <thead>\n",
       "    <tr style=\"text-align: right;\">\n",
       "      <th></th>\n",
       "      <th>match_id</th>\n",
       "      <th>game_datetime</th>\n",
       "      <th>game_length</th>\n",
       "      <th>game_variation</th>\n",
       "      <th>game_version</th>\n",
       "      <th>tft_set_number</th>\n",
       "    </tr>\n",
       "  </thead>\n",
       "  <tbody>\n",
       "    <tr>\n",
       "      <th>0</th>\n",
       "      <td>BR1_1925627632</td>\n",
       "      <td>2020-04-25 02:46:13</td>\n",
       "      <td>2436.686523</td>\n",
       "      <td>TFT3_GameVariation_FreeRerolls</td>\n",
       "      <td>Version 10.8.317.8137 (Apr 17 2020/16:09:11) [...</td>\n",
       "      <td>3</td>\n",
       "    </tr>\n",
       "  </tbody>\n",
       "</table>\n",
       "</div>"
      ],
      "text/plain": [
       "         match_id        game_datetime  game_length  \\\n",
       "0  BR1_1925627632  2020-04-25 02:46:13  2436.686523   \n",
       "\n",
       "                   game_variation  \\\n",
       "0  TFT3_GameVariation_FreeRerolls   \n",
       "\n",
       "                                        game_version  tft_set_number  \n",
       "0  Version 10.8.317.8137 (Apr 17 2020/16:09:11) [...               3  "
      ]
     },
     "execution_count": 10,
     "metadata": {},
     "output_type": "execute_result"
    }
   ],
   "source": [
    "match_info"
   ]
  }
 ],
 "metadata": {
  "kernelspec": {
   "display_name": "Python 3",
   "language": "python",
   "name": "python3"
  },
  "language_info": {
   "codemirror_mode": {
    "name": "ipython",
    "version": 3
   },
   "file_extension": ".py",
   "mimetype": "text/x-python",
   "name": "python",
   "nbconvert_exporter": "python",
   "pygments_lexer": "ipython3",
   "version": "3.7.4"
  },
  "toc": {
   "base_numbering": 1,
   "nav_menu": {},
   "number_sections": true,
   "sideBar": true,
   "skip_h1_title": false,
   "title_cell": "Table of Contents",
   "title_sidebar": "Contents",
   "toc_cell": false,
   "toc_position": {},
   "toc_section_display": true,
   "toc_window_display": false
  },
  "varInspector": {
   "cols": {
    "lenName": 16,
    "lenType": 16,
    "lenVar": 40
   },
   "kernels_config": {
    "python": {
     "delete_cmd_postfix": "",
     "delete_cmd_prefix": "del ",
     "library": "var_list.py",
     "varRefreshCmd": "print(var_dic_list())"
    },
    "r": {
     "delete_cmd_postfix": ") ",
     "delete_cmd_prefix": "rm(",
     "library": "var_list.r",
     "varRefreshCmd": "cat(var_dic_list()) "
    }
   },
   "types_to_exclude": [
    "module",
    "function",
    "builtin_function_or_method",
    "instance",
    "_Feature"
   ],
   "window_display": false
  }
 },
 "nbformat": 4,
 "nbformat_minor": 4
}
