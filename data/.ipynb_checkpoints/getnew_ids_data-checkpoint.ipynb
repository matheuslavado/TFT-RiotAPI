{
 "cells": [
  {
   "cell_type": "code",
   "execution_count": null,
   "metadata": {
    "ExecuteTime": {
     "end_time": "2020-05-17T01:53:35.541272Z",
     "start_time": "2020-05-17T01:53:35.537256Z"
    }
   },
   "outputs": [],
   "source": [
    "import os\n",
    "import pandas as pd\n",
    "import requests\n",
    "from getpass import getpass\n",
    "from bs4 import BeautifulSoup\n",
    "import json\n",
    "from tqdm.auto import tqdm\n",
    "import time\n",
    "from datetime import datetime"
   ]
  },
  {
   "cell_type": "code",
   "execution_count": null,
   "metadata": {
    "ExecuteTime": {
     "end_time": "2020-05-17T01:50:51.722337Z",
     "start_time": "2020-05-17T01:50:46.866432Z"
    }
   },
   "outputs": [],
   "source": [
    "key = getpass()"
   ]
  },
  {
   "cell_type": "code",
   "execution_count": null,
   "metadata": {
    "ExecuteTime": {
     "end_time": "2020-05-17T01:50:52.338160Z",
     "start_time": "2020-05-17T01:50:52.315173Z"
    }
   },
   "outputs": [],
   "source": [
    "class TFTRiotAPI:\n",
    "    def __init__(self):\n",
    "        pass\n",
    "    \n",
    "    def summoner_name(self, key, name):\n",
    "        name = name.replace(' ', '%20')\n",
    "        request = requests.get(f'https://br1.api.riotgames.com/tft/summoner/v1/summoners/by-name/{name}?api_key={key}')\n",
    "        return eval(request.content)\n",
    "    \n",
    "    def match_list(self, key, puuid, n = 30):\n",
    "        request = requests.get(f'https://americas.api.riotgames.com/tft/match/v1/matches/by-puuid/{puuid}/ids?count={n}&api_key={key}')\n",
    "        return eval(request.content)\n",
    "    \n",
    "    def match_info(self, key, matchid, unixtime = False):\n",
    "        '''Return a dataframe with some infos from the match (matchid, datetime, game lenght(s), game variation,\n",
    "        game version, number of the set).\n",
    "\n",
    "        key = riot API-key\n",
    "        matchid = The id from a specific match of team fight tatics(TFT)'''\n",
    "\n",
    "        request = requests.get(f'https://americas.api.riotgames.com/tft/match/v1/matches/{matchid}?api_key={key}')\n",
    "        df = pd.DataFrame(pd.json_normalize(eval(request.content)))\n",
    "        df2 = df[['metadata.match_id', 'info.game_datetime', 'info.game_length', 'info.game_variation',\n",
    "           'info.game_version', 'info.tft_set_number']]\n",
    "        df2.columns = [i.replace('metadata.', '').replace('info.', '') for i in df2.columns]\n",
    "        \n",
    "        y = df2.copy()\n",
    "        if unixtime == False:\n",
    "            x = df2['game_datetime'].apply(lambda x: pd.to_datetime(datetime.utcfromtimestamp(int(x)/1000).strftime('%Y-%m-%d %H:%M:%S')))\n",
    "            y = df2.copy()\n",
    "            y['game_datetime'] = x\n",
    "\n",
    "        return y\n",
    "    \n",
    "    def match_participants(self, key, matchid):\n",
    "        '''Return a list with the puuid from the 8 participants of the match'''\n",
    "\n",
    "        request = requests.get(f'https://americas.api.riotgames.com/tft/match/v1/matches/{matchid}?api_key={key}')\n",
    "        df = pd.DataFrame(pd.json_normalize(eval(request.content)))\n",
    "        return df.iloc[0,2]\n",
    "    \n",
    "    def match_results(self, key, matchid):\n",
    "        request = requests.get(f'https://americas.api.riotgames.com/tft/match/v1/matches/{matchid}?api_key={key}')\n",
    "        soup = BeautifulSoup(request.content)\n",
    "        df_master = pd.DataFrame(columns = ['match_id', 'gold_left', 'last_round', 'level', 'placement', 'players_eliminated', 'puuid',\n",
    "                                     'time_eliminated', 'total_damage_to_players', 'Set3_Blademaster', 'Blaster',\n",
    "                                     'Set3_Brawler', 'Set3_Celestial', 'Chrono', 'Cybernetic', 'DarkStar',\n",
    "                                     'Demolitionist', 'Infiltrator', 'ManaReaver', 'MechPilot',\n",
    "                                     'Mercenary', 'Set3_Mystic', 'Protector', 'Rebel', 'Sniper',\n",
    "                                     'SpacePirate', 'StarGuardian', 'Starship', 'Set3_Sorcerer', \n",
    "                                     'Valkyrie', 'Vanguard', 'Set3_Void', 'champion_1', 'champion_2', 'champion_3',\n",
    "                                     'champion_4', 'champion_5', 'champion_6', 'champion_7', 'champion_8', 'champion_9',\n",
    "                                     'champion_10'])\n",
    "\n",
    "        df_match = pd.DataFrame(pd.json_normalize(eval(soup.text)))\n",
    "        dict_players = df_match.iloc[0,-3]\n",
    "\n",
    "        for i in range(8):\n",
    "            info_player = pd.DataFrame([dict_players[i]])\n",
    "            df_master.loc[i, 'match_id'] = df_match.loc[0, 'metadata.match_id']\n",
    "            df_master.loc[i, 'gold_left'] = info_player.loc[0, 'gold_left']\n",
    "            df_master.loc[i, 'last_round'] = info_player.loc[0, 'last_round']\n",
    "            df_master.loc[i, 'level'] = info_player.loc[0, 'level']\n",
    "            df_master.loc[i, 'placement'] = info_player.loc[0, 'placement']\n",
    "            df_master.loc[i, 'players_eliminated'] = info_player.loc[0, 'players_eliminated']\n",
    "            df_master.loc[i, 'puuid'] = info_player.loc[0, 'puuid']\n",
    "            df_master.loc[i, 'time_eliminated'] = info_player.loc[0, 'time_eliminated']\n",
    "            df_master.loc[i, 'total_damage_to_players'] = info_player.loc[0, 'total_damage_to_players']\n",
    "\n",
    "            for j in range(len(info_player.iloc[0, -2])): ## nesta etapa ele adiciona os tipos e quantidade, possui um valor extra no dicio que causa um bug (TemplateTrait)\n",
    "                intermediate = pd.DataFrame(info_player.iloc[0, -2])\n",
    "                df_master.loc[i, intermediate['name'][j]] = intermediate['num_units'][j]\n",
    "\n",
    "            for k in range(len(info_player.iloc[0, -1])):\n",
    "                intermediate = pd.DataFrame(info_player.iloc[0, -1])        \n",
    "                df_master.loc[i, 'champion_' + str(k+1)] = (intermediate['character_id'][k] + '_' + str(intermediate['tier'][k])).replace('TFT3_', '')\n",
    "\n",
    "        #df_master.columns = ['match_id', 'gold_left', 'last_round', 'level', 'placement', 'players_eliminated', 'puuid',\n",
    "        #                             'time_eliminated', 'total_damage_to_players', 'blademaster_num', 'blaster_num',\n",
    "        #                             'brawler_num', 'celestial_num', 'chrono_num', 'cybernetic_num', 'dark_star_num',\n",
    "        #                             'demolitionist_num', 'infiltrator_num', 'mana_reaver_num', 'mech_pilot_num',\n",
    "        #                             'mercenary_num', 'mystic_num', 'protector_num', 'rebel_num', 'sniper_num',\n",
    "        #                             'space_pirate_num', 'star_guardian_num', 'starship_num', 'sorcerer_num', \n",
    "        #                             'valkyrie_num', 'vanguard_num', 'void_num', 'champion_1', 'champion_2', 'champion_3',\n",
    "        #                             'champion_4', 'champion_5', 'champion_6', 'champion_7', 'champion_8', 'champion_9',\n",
    "        #                             'champion_10']\n",
    "        return df_master"
   ]
  },
  {
   "cell_type": "code",
   "execution_count": null,
   "metadata": {
    "ExecuteTime": {
     "end_time": "2020-05-17T01:51:03.488916Z",
     "start_time": "2020-05-17T01:51:03.485918Z"
    }
   },
   "outputs": [],
   "source": [
    "riot = TFTRiotAPI()"
   ]
  },
  {
   "cell_type": "markdown",
   "metadata": {},
   "source": [
    "# Adicionando novos puuids"
   ]
  },
  {
   "cell_type": "code",
   "execution_count": null,
   "metadata": {
    "ExecuteTime": {
     "end_time": "2020-05-15T20:32:10.981029Z",
     "start_time": "2020-05-15T20:32:10.772454Z"
    }
   },
   "outputs": [],
   "source": [
    "matchids_atual = pd.read_csv('matchids.csv')['matchid']\n",
    "matchids_atual"
   ]
  },
  {
   "cell_type": "code",
   "execution_count": null,
   "metadata": {
    "ExecuteTime": {
     "end_time": "2020-05-15T20:32:18.129450Z",
     "start_time": "2020-05-15T20:32:18.092571Z"
    }
   },
   "outputs": [],
   "source": [
    "puuids_new = pd.read_csv('puuids.csv')\n",
    "puuids_new"
   ]
  },
  {
   "cell_type": "code",
   "execution_count": null,
   "metadata": {
    "ExecuteTime": {
     "end_time": "2020-05-15T20:38:45.281410Z",
     "start_time": "2020-05-15T20:32:21.715507Z"
    }
   },
   "outputs": [],
   "source": [
    "for i in tqdm(matchids_atual):\n",
    "    intermediate = riot.match_participants(key = key, matchid = i)\n",
    "    time.sleep(1)\n",
    "    for j in intermediate:\n",
    "        puuids_new = puuids_new.append({'puuid' : j}, ignore_index = True)\n",
    "        \n",
    "    puuids_new.drop_duplicates().to_csv('puuids.csv', index = False)"
   ]
  },
  {
   "cell_type": "code",
   "execution_count": null,
   "metadata": {
    "ExecuteTime": {
     "end_time": "2020-05-15T20:38:51.159606Z",
     "start_time": "2020-05-15T20:38:51.143087Z"
    }
   },
   "outputs": [],
   "source": [
    "puuids_new"
   ]
  },
  {
   "cell_type": "code",
   "execution_count": null,
   "metadata": {},
   "outputs": [],
   "source": []
  },
  {
   "cell_type": "code",
   "execution_count": null,
   "metadata": {},
   "outputs": [],
   "source": []
  },
  {
   "cell_type": "markdown",
   "metadata": {},
   "source": [
    "# Adicionando novos matchids"
   ]
  },
  {
   "cell_type": "code",
   "execution_count": null,
   "metadata": {
    "ExecuteTime": {
     "end_time": "2020-05-17T01:57:00.216715Z",
     "start_time": "2020-05-17T01:57:00.133763Z"
    }
   },
   "outputs": [],
   "source": [
    "puuids = pd.read_csv('puuids.csv')['puuid']\n",
    "puuids"
   ]
  },
  {
   "cell_type": "code",
   "execution_count": null,
   "metadata": {
    "ExecuteTime": {
     "end_time": "2020-05-17T01:57:07.645389Z",
     "start_time": "2020-05-17T01:57:07.629401Z"
    }
   },
   "outputs": [],
   "source": [
    "matchids_new = pd.read_csv('matchids.csv')\n",
    "matchids_new"
   ]
  },
  {
   "cell_type": "code",
   "execution_count": null,
   "metadata": {
    "ExecuteTime": {
     "end_time": "2020-05-15T20:40:56.138796Z",
     "start_time": "2020-05-15T20:39:28.323587Z"
    }
   },
   "outputs": [],
   "source": [
    "for i in tqdm(puuids):\n",
    "    intermediate = riot.match_list(key, i)\n",
    "    time.sleep(1)\n",
    "    for j in intermediate:\n",
    "        matchids_new = matchids_new.append({'matchid' : j}, ignore_index = True)\n",
    "    \n",
    "    matchids_new.drop_duplicates().to_csv('matchids.csv', index = False)"
   ]
  },
  {
   "cell_type": "code",
   "execution_count": null,
   "metadata": {
    "ExecuteTime": {
     "end_time": "2020-05-15T20:41:00.488773Z",
     "start_time": "2020-05-15T20:41:00.473777Z"
    }
   },
   "outputs": [],
   "source": [
    "matchids_new"
   ]
  },
  {
   "cell_type": "code",
   "execution_count": null,
   "metadata": {},
   "outputs": [],
   "source": []
  },
  {
   "cell_type": "code",
   "execution_count": null,
   "metadata": {},
   "outputs": [],
   "source": []
  },
  {
   "cell_type": "code",
   "execution_count": null,
   "metadata": {},
   "outputs": [],
   "source": []
  },
  {
   "cell_type": "code",
   "execution_count": null,
   "metadata": {},
   "outputs": [],
   "source": []
  },
  {
   "cell_type": "markdown",
   "metadata": {},
   "source": [
    "# Adicionando novas match_info"
   ]
  },
  {
   "cell_type": "code",
   "execution_count": null,
   "metadata": {
    "ExecuteTime": {
     "end_time": "2020-05-17T01:52:17.862908Z",
     "start_time": "2020-05-17T01:52:17.851907Z"
    }
   },
   "outputs": [],
   "source": [
    "matchids = pd.read_csv('matchids.csv')"
   ]
  },
  {
   "cell_type": "code",
   "execution_count": null,
   "metadata": {
    "ExecuteTime": {
     "end_time": "2020-05-17T01:56:38.043025Z",
     "start_time": "2020-05-17T01:56:38.021038Z"
    }
   },
   "outputs": [],
   "source": [
    "match_info = pd.read_csv('match_info.csv')\n",
    "match_info"
   ]
  },
  {
   "cell_type": "code",
   "execution_count": null,
   "metadata": {
    "ExecuteTime": {
     "end_time": "2020-05-17T01:56:27.059639Z",
     "start_time": "2020-05-17T01:54:14.095914Z"
    }
   },
   "outputs": [],
   "source": [
    "for i in tqdm(matchids['matchid']):\n",
    "    try:\n",
    "        intermediate = riot.match_info(key, i)\n",
    "        match_info = match_info.append(intermediate, ignore_index = True)\n",
    "        match_info.drop_duplicates().to_csv('match_info.csv', index = False)\n",
    "    except:\n",
    "        print('Error in matchid:', i)\n",
    "    \n",
    "    time.sleep(0.5)"
   ]
  },
  {
   "cell_type": "code",
   "execution_count": null,
   "metadata": {
    "ExecuteTime": {
     "end_time": "2020-05-17T01:56:30.518198Z",
     "start_time": "2020-05-17T01:56:30.467228Z"
    }
   },
   "outputs": [],
   "source": [
    "match_info"
   ]
  },
  {
   "cell_type": "code",
   "execution_count": null,
   "metadata": {},
   "outputs": [],
   "source": []
  }
 ],
 "metadata": {
  "kernelspec": {
   "display_name": "Python 3",
   "language": "python",
   "name": "python3"
  },
  "language_info": {
   "codemirror_mode": {
    "name": "ipython",
    "version": 3
   },
   "file_extension": ".py",
   "mimetype": "text/x-python",
   "name": "python",
   "nbconvert_exporter": "python",
   "pygments_lexer": "ipython3",
   "version": "3.7.4"
  },
  "toc": {
   "base_numbering": 1,
   "nav_menu": {},
   "number_sections": true,
   "sideBar": true,
   "skip_h1_title": false,
   "title_cell": "Table of Contents",
   "title_sidebar": "Contents",
   "toc_cell": false,
   "toc_position": {},
   "toc_section_display": true,
   "toc_window_display": false
  },
  "varInspector": {
   "cols": {
    "lenName": 16,
    "lenType": 16,
    "lenVar": 40
   },
   "kernels_config": {
    "python": {
     "delete_cmd_postfix": "",
     "delete_cmd_prefix": "del ",
     "library": "var_list.py",
     "varRefreshCmd": "print(var_dic_list())"
    },
    "r": {
     "delete_cmd_postfix": ") ",
     "delete_cmd_prefix": "rm(",
     "library": "var_list.r",
     "varRefreshCmd": "cat(var_dic_list()) "
    }
   },
   "types_to_exclude": [
    "module",
    "function",
    "builtin_function_or_method",
    "instance",
    "_Feature"
   ],
   "window_display": false
  }
 },
 "nbformat": 4,
 "nbformat_minor": 4
}
