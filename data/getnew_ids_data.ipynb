{
 "cells": [
  {
   "cell_type": "code",
   "execution_count": null,
   "metadata": {},
   "outputs": [],
   "source": [
    "import os\n",
    "import pandas as pd\n",
    "import requests\n",
    "import getpass\n",
    "from bs4 import BeautifulSoup\n",
    "import json\n",
    "from tqdm import tqdm\n",
    "import time"
   ]
  },
  {
   "cell_type": "code",
   "execution_count": null,
   "metadata": {},
   "outputs": [],
   "source": [
    "key = getpass.getpass()"
   ]
  },
  {
   "cell_type": "code",
   "execution_count": null,
   "metadata": {},
   "outputs": [],
   "source": [
    "class TFTRiotAPI:\n",
    "    def __init__(self):\n",
    "        pass\n",
    "    \n",
    "    def summoner_name(self, key, name):\n",
    "        name = name.replace(' ', '%20')\n",
    "        request = requests.get(f'https://br1.api.riotgames.com/tft/summoner/v1/summoners/by-name/{name}?api_key={key}')\n",
    "        return eval(request.content)\n",
    "    \n",
    "    def match_list(self, key, puuid, n = 30):\n",
    "        request = requests.get(f'https://americas.api.riotgames.com/tft/match/v1/matches/by-puuid/{puuid}/ids?count={n}&api_key={key}')\n",
    "        return eval(request.content)\n",
    "    \n",
    "    def match_info(key, matchid):\n",
    "        '''Return a dataframe with some infos from the match (matchid, datetime, game lenght(s), game variation,\n",
    "        game version, number of the set).\n",
    "\n",
    "        key = riot API-key\n",
    "        matchid = The id from a specific match of team fight tatics(TFT)'''\n",
    "\n",
    "        request = requests.get(f'https://americas.api.riotgames.com/tft/match/v1/matches/{matchid}?api_key={key}')\n",
    "        df = pd.DataFrame(pd.json_normalize(eval(request.content)))\n",
    "        df2 = df[['metadata.match_id', 'info.game_datetime', 'info.game_length', 'info.game_variation',\n",
    "           'info.game_version', 'info.tft_set_number']]\n",
    "        df2.columns = [i.replace('metadata.', '').replace('info.', '') for i in df2.columns]\n",
    "\n",
    "        return df2\n",
    "    \n",
    "    def match_participants(self, key, matchid):\n",
    "        '''Return a list with the puuid from the 8 participants of the match'''\n",
    "\n",
    "        request = requests.get(f'https://americas.api.riotgames.com/tft/match/v1/matches/{matchid}?api_key={key}')\n",
    "        df = pd.DataFrame(pd.json_normalize(eval(request.content)))\n",
    "        return df.iloc[0,2]\n",
    "    \n",
    "    def match_results(self, key, matchid):\n",
    "        request = requests.get(f'https://americas.api.riotgames.com/tft/match/v1/matches/{matchid}?api_key={key}')\n",
    "        soup = BeautifulSoup(request.content)\n",
    "        df_master = pd.DataFrame(columns = ['match_id', 'gold_left', 'last_round', 'level', 'placement', 'players_eliminated', 'puuid',\n",
    "                                     'time_eliminated', 'total_damage_to_players', 'Set3_Blademaster', 'Blaster',\n",
    "                                     'Set3_Brawler', 'Set3_Celestial', 'Chrono', 'Cybernetic', 'DarkStar',\n",
    "                                     'Demolitionist', 'Infiltrator', 'ManaReaver', 'MechPilot',\n",
    "                                     'Mercenary', 'Set3_Mystic', 'Protector', 'Rebel', 'Sniper',\n",
    "                                     'SpacePirate', 'StarGuardian', 'Starship', 'Set3_Sorcerer', \n",
    "                                     'Valkyrie', 'Vanguard', 'Set3_Void', 'champion_1', 'champion_2', 'champion_3',\n",
    "                                     'champion_4', 'champion_5', 'champion_6', 'champion_7', 'champion_8', 'champion_9',\n",
    "                                     'champion_10'])\n",
    "\n",
    "        df_match = pd.DataFrame(pd.json_normalize(eval(soup.text)))\n",
    "        dict_players = df_match.iloc[0,-3]\n",
    "\n",
    "        for i in range(8):\n",
    "            info_player = pd.DataFrame([dict_players[i]])\n",
    "            df_master.loc[i, 'match_id'] = df_match.loc[0, 'metadata.match_id']\n",
    "            df_master.loc[i, 'gold_left'] = info_player.loc[0, 'gold_left']\n",
    "            df_master.loc[i, 'last_round'] = info_player.loc[0, 'last_round']\n",
    "            df_master.loc[i, 'level'] = info_player.loc[0, 'level']\n",
    "            df_master.loc[i, 'placement'] = info_player.loc[0, 'placement']\n",
    "            df_master.loc[i, 'players_eliminated'] = info_player.loc[0, 'players_eliminated']\n",
    "            df_master.loc[i, 'puuid'] = info_player.loc[0, 'puuid']\n",
    "            df_master.loc[i, 'time_eliminated'] = info_player.loc[0, 'time_eliminated']\n",
    "            df_master.loc[i, 'total_damage_to_players'] = info_player.loc[0, 'total_damage_to_players']\n",
    "\n",
    "            for j in range(len(info_player.iloc[0, -2])):\n",
    "                intermediate = pd.DataFrame(info_player.iloc[0, -2])\n",
    "                df_master.loc[i, intermediate['name'][j]] = intermediate['num_units'][j]\n",
    "\n",
    "            for k in range(len(info_player.iloc[0, -1])):\n",
    "                intermediate = pd.DataFrame(info_player.iloc[0, -1])        \n",
    "                df_master.loc[i, 'champion_' + str(k+1)] = (intermediate['character_id'][k] + '_' + str(intermediate['tier'][k])).replace('TFT3_', '')\n",
    "\n",
    "        df_master.columns = ['match_id', 'gold_left', 'last_round', 'level', 'placement', 'players_eliminated', 'puuid',\n",
    "                                     'time_eliminated', 'total_damage_to_players', 'blademaster_num', 'blaster_num',\n",
    "                                     'brawler_num', 'celestial_num', 'chrono_num', 'cybernetic_num', 'dark_star_num',\n",
    "                                     'demolitionist_num', 'infiltrator_num', 'mana_reaver_num', 'mech_pilot_num',\n",
    "                                     'mercenary_num', 'mystic_num', 'protector_num', 'rebel_num', 'sniper_num',\n",
    "                                     'space_pirate_num', 'star_guardian_num', 'starship_num', 'sorcerer_num', \n",
    "                                     'valkyrie_num', 'vanguard_num', 'void_num', 'champion_1', 'champion_2', 'champion_3',\n",
    "                                     'champion_4', 'champion_5', 'champion_6', 'champion_7', 'champion_8', 'champion_9',\n",
    "                                     'champion_10']\n",
    "        return df_master"
   ]
  },
  {
   "cell_type": "code",
   "execution_count": null,
   "metadata": {},
   "outputs": [],
   "source": [
    "matchids_atual = pd.read_csv('matchids.csv')['matchid']"
   ]
  },
  {
   "cell_type": "code",
   "execution_count": null,
   "metadata": {},
   "outputs": [],
   "source": [
    "riot = TFTRiotAPI()"
   ]
  },
  {
   "cell_type": "code",
   "execution_count": null,
   "metadata": {},
   "outputs": [],
   "source": [
    "puuids_new = pd.read_csv('puuids.csv')"
   ]
  },
  {
   "cell_type": "code",
   "execution_count": null,
   "metadata": {},
   "outputs": [],
   "source": [
    "for i in tqdm(matchids_atual):\n",
    "    intermediate = riot.match_participants(key, i)\n",
    "    time.sleep(1)\n",
    "    for j in intermediate:\n",
    "        puuids_new = puuids_new.append({'puuid' : j}, ignore_index = True)\n",
    "        "
   ]
  },
  {
   "cell_type": "code",
   "execution_count": null,
   "metadata": {},
   "outputs": [],
   "source": [
    "puuids_new"
   ]
  },
  {
   "cell_type": "code",
   "execution_count": null,
   "metadata": {},
   "outputs": [],
   "source": [
    "puuids_new"
   ]
  },
  {
   "cell_type": "code",
   "execution_count": null,
   "metadata": {},
   "outputs": [],
   "source": [
    "puuids_new.drop_duplicates().to_csv('puuids.csv', index = False)"
   ]
  },
  {
   "cell_type": "code",
   "execution_count": null,
   "metadata": {},
   "outputs": [],
   "source": [
    "puuids = pd.read_csv('puuids.csv')['puuid']"
   ]
  },
  {
   "cell_type": "code",
   "execution_count": null,
   "metadata": {},
   "outputs": [],
   "source": [
    "matchids_new = pd.read_csv('matchids.csv')"
   ]
  },
  {
   "cell_type": "code",
   "execution_count": null,
   "metadata": {},
   "outputs": [],
   "source": [
    "for i in tqdm(puuids):\n",
    "    intermediate = riot.match_list(key, i)\n",
    "    time.sleep(1)\n",
    "    for j in intermediate:\n",
    "        matchids_new = matchids_new.append({'matchid' : j}, ignore_index = True)"
   ]
  },
  {
   "cell_type": "code",
   "execution_count": null,
   "metadata": {},
   "outputs": [],
   "source": [
    "matchids_new"
   ]
  },
  {
   "cell_type": "code",
   "execution_count": null,
   "metadata": {},
   "outputs": [],
   "source": [
    "matchids_new"
   ]
  },
  {
   "cell_type": "code",
   "execution_count": null,
   "metadata": {},
   "outputs": [],
   "source": [
    "matchids_new.drop_duplicates().to_csv('matchids.csv', index = False)"
   ]
  }
 ],
 "metadata": {
  "kernelspec": {
   "display_name": "Python 3",
   "language": "python",
   "name": "python3"
  },
  "language_info": {
   "codemirror_mode": {
    "name": "ipython",
    "version": 3
   },
   "file_extension": ".py",
   "mimetype": "text/x-python",
   "name": "python",
   "nbconvert_exporter": "python",
   "pygments_lexer": "ipython3",
   "version": "3.7.6"
  }
 },
 "nbformat": 4,
 "nbformat_minor": 4
}
