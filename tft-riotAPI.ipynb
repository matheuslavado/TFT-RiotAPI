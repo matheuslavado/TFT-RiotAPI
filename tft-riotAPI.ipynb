{
 "cells": [
  {
   "cell_type": "code",
   "execution_count": 44,
   "metadata": {},
   "outputs": [],
   "source": [
    "import os\n",
    "import pandas as pd\n",
    "import requests\n",
    "import getpass\n",
    "from bs4 import BeautifulSoup\n",
    "import json"
   ]
  },
  {
   "cell_type": "code",
   "execution_count": 45,
   "metadata": {},
   "outputs": [
    {
     "name": "stdout",
     "output_type": "stream",
     "text": [
      "········\n"
     ]
    }
   ],
   "source": [
    "key = getpass.getpass()"
   ]
  },
  {
   "cell_type": "code",
   "execution_count": 71,
   "metadata": {},
   "outputs": [],
   "source": [
    "def summoner_name(key, name):\n",
    "    name = name.replace(' ', '%20')\n",
    "    request = requests.get(f'https://br1.api.riotgames.com/tft/summoner/v1/summoners/by-name/{name}?api_key={key}')\n",
    "    soup = BeautifulSoup(request.content)\n",
    "    return eval(soup.text)"
   ]
  },
  {
   "cell_type": "code",
   "execution_count": 73,
   "metadata": {},
   "outputs": [],
   "source": [
    " teste = summoner_name(key, 'Es mir egal')"
   ]
  },
  {
   "cell_type": "code",
   "execution_count": 76,
   "metadata": {},
   "outputs": [
    {
     "data": {
      "text/html": [
       "<div>\n",
       "<style scoped>\n",
       "    .dataframe tbody tr th:only-of-type {\n",
       "        vertical-align: middle;\n",
       "    }\n",
       "\n",
       "    .dataframe tbody tr th {\n",
       "        vertical-align: top;\n",
       "    }\n",
       "\n",
       "    .dataframe thead th {\n",
       "        text-align: right;\n",
       "    }\n",
       "</style>\n",
       "<table border=\"1\" class=\"dataframe\">\n",
       "  <thead>\n",
       "    <tr style=\"text-align: right;\">\n",
       "      <th></th>\n",
       "      <th>id</th>\n",
       "      <th>accountId</th>\n",
       "      <th>puuid</th>\n",
       "      <th>name</th>\n",
       "      <th>profileIconId</th>\n",
       "      <th>revisionDate</th>\n",
       "      <th>summonerLevel</th>\n",
       "    </tr>\n",
       "  </thead>\n",
       "  <tbody>\n",
       "    <tr>\n",
       "      <th>0</th>\n",
       "      <td>4GfUXIlMw5B040aVRVjxDlHVKkhiy4DP8T_HjdeuxG-QoV8</td>\n",
       "      <td>TYPXovIvidbWnodF3_pVrS-Uz7BKg-1x_7LWyVTvrLFV7-U</td>\n",
       "      <td>K3mbUvb-2PPBom5fdP5FBdn-2CUsQqy4t2wh-dmw-e55tv...</td>\n",
       "      <td>Es mir egal</td>\n",
       "      <td>4498</td>\n",
       "      <td>1587819831000</td>\n",
       "      <td>84</td>\n",
       "    </tr>\n",
       "  </tbody>\n",
       "</table>\n",
       "</div>"
      ],
      "text/plain": [
       "                                                id  \\\n",
       "0  4GfUXIlMw5B040aVRVjxDlHVKkhiy4DP8T_HjdeuxG-QoV8   \n",
       "\n",
       "                                         accountId  \\\n",
       "0  TYPXovIvidbWnodF3_pVrS-Uz7BKg-1x_7LWyVTvrLFV7-U   \n",
       "\n",
       "                                               puuid         name  \\\n",
       "0  K3mbUvb-2PPBom5fdP5FBdn-2CUsQqy4t2wh-dmw-e55tv...  Es mir egal   \n",
       "\n",
       "   profileIconId   revisionDate  summonerLevel  \n",
       "0           4498  1587819831000             84  "
      ]
     },
     "execution_count": 76,
     "metadata": {},
     "output_type": "execute_result"
    }
   ],
   "source": [
    "pd.DataFrame([teste])"
   ]
  },
  {
   "cell_type": "code",
   "execution_count": null,
   "metadata": {},
   "outputs": [],
   "source": []
  }
 ],
 "metadata": {
  "kernelspec": {
   "display_name": "Python 3",
   "language": "python",
   "name": "python3"
  },
  "language_info": {
   "codemirror_mode": {
    "name": "ipython",
    "version": 3
   },
   "file_extension": ".py",
   "mimetype": "text/x-python",
   "name": "python",
   "nbconvert_exporter": "python",
   "pygments_lexer": "ipython3",
   "version": "3.7.6"
  }
 },
 "nbformat": 4,
 "nbformat_minor": 4
}
