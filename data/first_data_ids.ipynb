{
 "cells": [
  {
   "cell_type": "code",
   "execution_count": 1,
   "metadata": {},
   "outputs": [],
   "source": [
    "import os\n",
    "import pandas as pd\n",
    "import requests\n",
    "import getpass\n",
    "from bs4 import BeautifulSoup\n",
    "import json\n",
    "import time\n",
    "from tqdm import tqdm"
   ]
  },
  {
   "cell_type": "code",
   "execution_count": 2,
   "metadata": {},
   "outputs": [
    {
     "name": "stdout",
     "output_type": "stream",
     "text": [
      "········\n"
     ]
    }
   ],
   "source": [
    "key = getpass.getpass()"
   ]
  },
  {
   "cell_type": "code",
   "execution_count": 3,
   "metadata": {},
   "outputs": [],
   "source": [
    "class TFTRiotAPI:\n",
    "    def __init__(self):\n",
    "        pass\n",
    "    \n",
    "    def summoner_name(self, key, name):\n",
    "        name = name.replace(' ', '%20')\n",
    "        request = requests.get(f'https://br1.api.riotgames.com/tft/summoner/v1/summoners/by-name/{name}?api_key={key}')\n",
    "        return eval(request.content)\n",
    "    \n",
    "    def match_list(self, key, puuid, n = 30):\n",
    "        request = requests.get(f'https://americas.api.riotgames.com/tft/match/v1/matches/by-puuid/{puuid}/ids?count={n}&api_key={key}')\n",
    "        return eval(request.content)\n",
    "    \n",
    "    def match_info(key, matchid):\n",
    "        '''Return a dataframe with some infos from the match (matchid, datetime, game lenght(s), game variation,\n",
    "        game version, number of the set).\n",
    "\n",
    "        key = riot API-key\n",
    "        matchid = The id from a specific match of team fight tatics(TFT)'''\n",
    "\n",
    "        request = requests.get(f'https://americas.api.riotgames.com/tft/match/v1/matches/{matchid}?api_key={key}')\n",
    "        df = pd.DataFrame(pd.json_normalize(eval(request.content)))\n",
    "        df2 = df[['metadata.match_id', 'info.game_datetime', 'info.game_length', 'info.game_variation',\n",
    "           'info.game_version', 'info.tft_set_number']]\n",
    "        df2.columns = [i.replace('metadata.', '').replace('info.', '') for i in df2.columns]\n",
    "\n",
    "        return df2\n",
    "    \n",
    "    def match_participants(self, key, matchid):\n",
    "        '''Return a list with the puuid from the 8 participants of the match'''\n",
    "\n",
    "        request = requests.get(f'https://americas.api.riotgames.com/tft/match/v1/matches/{matchid}?api_key={key}')\n",
    "        df = pd.DataFrame(pd.json_normalize(eval(request.content)))\n",
    "        return df.iloc[0,2]\n",
    "    \n",
    "    def match_results(self, key, matchid):\n",
    "        request = requests.get(f'https://americas.api.riotgames.com/tft/match/v1/matches/{matchid}?api_key={key}')\n",
    "        soup = BeautifulSoup(request.content)\n",
    "        df_master = pd.DataFrame(columns = ['match_id', 'gold_left', 'last_round', 'level', 'placement', 'players_eliminated', 'puuid',\n",
    "                                     'time_eliminated', 'total_damage_to_players', 'Set3_Blademaster', 'Blaster',\n",
    "                                     'Set3_Brawler', 'Set3_Celestial', 'Chrono', 'Cybernetic', 'DarkStar',\n",
    "                                     'Demolitionist', 'Infiltrator', 'ManaReaver', 'MechPilot',\n",
    "                                     'Mercenary', 'Set3_Mystic', 'Protector', 'Rebel', 'Sniper',\n",
    "                                     'SpacePirate', 'StarGuardian', 'Starship', 'Set3_Sorcerer', \n",
    "                                     'Valkyrie', 'Vanguard', 'Set3_Void', 'champion_1', 'champion_2', 'champion_3',\n",
    "                                     'champion_4', 'champion_5', 'champion_6', 'champion_7', 'champion_8', 'champion_9',\n",
    "                                     'champion_10'])\n",
    "\n",
    "        df_match = pd.DataFrame(pd.json_normalize(eval(soup.text)))\n",
    "        dict_players = df_match.iloc[0,-3]\n",
    "\n",
    "        for i in range(8):\n",
    "            info_player = pd.DataFrame([dict_players[i]])\n",
    "            df_master.loc[i, 'match_id'] = df_match.loc[0, 'metadata.match_id']\n",
    "            df_master.loc[i, 'gold_left'] = info_player.loc[0, 'gold_left']\n",
    "            df_master.loc[i, 'last_round'] = info_player.loc[0, 'last_round']\n",
    "            df_master.loc[i, 'level'] = info_player.loc[0, 'level']\n",
    "            df_master.loc[i, 'placement'] = info_player.loc[0, 'placement']\n",
    "            df_master.loc[i, 'players_eliminated'] = info_player.loc[0, 'players_eliminated']\n",
    "            df_master.loc[i, 'puuid'] = info_player.loc[0, 'puuid']\n",
    "            df_master.loc[i, 'time_eliminated'] = info_player.loc[0, 'time_eliminated']\n",
    "            df_master.loc[i, 'total_damage_to_players'] = info_player.loc[0, 'total_damage_to_players']\n",
    "\n",
    "            for j in range(len(info_player.iloc[0, -2])): ## nesta etapa ele adiciona os tipos e quantidade, possui um valor extra no dicio que causa um bug (TemplateTrait)\n",
    "                intermediate = pd.DataFrame(info_player.iloc[0, -2])\n",
    "                df_master.loc[i, intermediate['name'][j]] = intermediate['num_units'][j]\n",
    "\n",
    "            for k in range(len(info_player.iloc[0, -1])):\n",
    "                intermediate = pd.DataFrame(info_player.iloc[0, -1])        \n",
    "                df_master.loc[i, 'champion_' + str(k+1)] = (intermediate['character_id'][k] + '_' + str(intermediate['tier'][k])).replace('TFT3_', '')\n",
    "\n",
    "        #df_master.columns = ['match_id', 'gold_left', 'last_round', 'level', 'placement', 'players_eliminated', 'puuid',\n",
    "        #                             'time_eliminated', 'total_damage_to_players', 'blademaster_num', 'blaster_num',\n",
    "        #                             'brawler_num', 'celestial_num', 'chrono_num', 'cybernetic_num', 'dark_star_num',\n",
    "        #                             'demolitionist_num', 'infiltrator_num', 'mana_reaver_num', 'mech_pilot_num',\n",
    "        #                             'mercenary_num', 'mystic_num', 'protector_num', 'rebel_num', 'sniper_num',\n",
    "        #                             'space_pirate_num', 'star_guardian_num', 'starship_num', 'sorcerer_num', \n",
    "        #                             'valkyrie_num', 'vanguard_num', 'void_num', 'champion_1', 'champion_2', 'champion_3',\n",
    "        #                             'champion_4', 'champion_5', 'champion_6', 'champion_7', 'champion_8', 'champion_9',\n",
    "        #                             'champion_10']\n",
    "        return df_master"
   ]
  },
  {
   "cell_type": "code",
   "execution_count": 4,
   "metadata": {},
   "outputs": [],
   "source": [
    "pd.set_option('display.max_columns', 999)"
   ]
  },
  {
   "cell_type": "code",
   "execution_count": 5,
   "metadata": {},
   "outputs": [],
   "source": [
    "riot = TFTRiotAPI()"
   ]
  },
  {
   "cell_type": "code",
   "execution_count": 6,
   "metadata": {},
   "outputs": [
    {
     "data": {
      "text/plain": [
       "'K3mbUvb-2PPBom5fdP5FBdn-2CUsQqy4t2wh-dmw-e55tv0nVirYpqo-AISeib2MLctqZ63zorohUg'"
      ]
     },
     "execution_count": 6,
     "metadata": {},
     "output_type": "execute_result"
    }
   ],
   "source": [
    "puuid_me = riot.summoner_name(key, 'Es mir egal')['puuid']\n",
    "puuid_me"
   ]
  },
  {
   "cell_type": "code",
   "execution_count": 7,
   "metadata": {},
   "outputs": [],
   "source": [
    "match_list_master = []"
   ]
  },
  {
   "cell_type": "code",
   "execution_count": 8,
   "metadata": {},
   "outputs": [
    {
     "data": {
      "text/plain": [
       "['BR1_1932405958',\n",
       " 'BR1_1932041516',\n",
       " 'BR1_1931990138',\n",
       " 'BR1_1931763481',\n",
       " 'BR1_1930827974',\n",
       " 'BR1_1930769792',\n",
       " 'BR1_1930780175',\n",
       " 'BR1_1930744707',\n",
       " 'BR1_1929766171',\n",
       " 'BR1_1929751730',\n",
       " 'BR1_1929631786',\n",
       " 'BR1_1928808166',\n",
       " 'BR1_1928783006',\n",
       " 'BR1_1927689028',\n",
       " 'BR1_1927580618',\n",
       " 'BR1_1927468990',\n",
       " 'BR1_1927461391',\n",
       " 'BR1_1926730533',\n",
       " 'BR1_1926675398',\n",
       " 'BR1_1926670564',\n",
       " 'BR1_1926614700',\n",
       " 'BR1_1926538340',\n",
       " 'BR1_1926140313',\n",
       " 'BR1_1926073659',\n",
       " 'BR1_1926067196',\n",
       " 'BR1_1926063272',\n",
       " 'BR1_1925978166',\n",
       " 'BR1_1925750238',\n",
       " 'BR1_1925712925',\n",
       " 'BR1_1925627632']"
      ]
     },
     "execution_count": 8,
     "metadata": {},
     "output_type": "execute_result"
    }
   ],
   "source": [
    "match_list = riot.match_list(key, puuid_me)\n",
    "match_list"
   ]
  },
  {
   "cell_type": "code",
   "execution_count": 9,
   "metadata": {},
   "outputs": [],
   "source": [
    "puuid_list_master = []"
   ]
  },
  {
   "cell_type": "code",
   "execution_count": 10,
   "metadata": {},
   "outputs": [
    {
     "name": "stderr",
     "output_type": "stream",
     "text": [
      "100%|██████████| 30/30 [00:49<00:00,  1.64s/it]\n"
     ]
    }
   ],
   "source": [
    "for i in tqdm(match_list):\n",
    "    temp_list = riot.match_participants(key, i)\n",
    "    for i in temp_list:\n",
    "        puuid_list_master.append(i)"
   ]
  },
  {
   "cell_type": "code",
   "execution_count": 11,
   "metadata": {},
   "outputs": [
    {
     "name": "stderr",
     "output_type": "stream",
     "text": [
      "100%|██████████| 203/203 [04:43<00:00,  1.39s/it]\n"
     ]
    }
   ],
   "source": [
    "for i in tqdm(list(set(puuid_list_master))):\n",
    "    temp_list = riot.match_list(key, i)\n",
    "    for i in temp_list:\n",
    "        match_list_master.append(i)"
   ]
  },
  {
   "cell_type": "code",
   "execution_count": null,
   "metadata": {},
   "outputs": [],
   "source": []
  },
  {
   "cell_type": "code",
   "execution_count": 12,
   "metadata": {},
   "outputs": [],
   "source": [
    "pd.DataFrame(list(set(match_list_master)), columns = ['matchid']).to_csv('matchids.csv', index = False)"
   ]
  },
  {
   "cell_type": "code",
   "execution_count": 13,
   "metadata": {},
   "outputs": [],
   "source": [
    "pd.DataFrame(list(set(puuid_list_master)), columns = ['puuid']).to_csv('puuids.csv', index = False)"
   ]
  },
  {
   "cell_type": "code",
   "execution_count": null,
   "metadata": {},
   "outputs": [],
   "source": []
  },
  {
   "cell_type": "code",
   "execution_count": 14,
   "metadata": {},
   "outputs": [],
   "source": [
    "with open('matchids.txt', 'w') as f:\n",
    "    f.write(str(list(set(match_list_master))))\n",
    "    f.close()"
   ]
  },
  {
   "cell_type": "code",
   "execution_count": 15,
   "metadata": {},
   "outputs": [],
   "source": [
    "with open('puuids.txt', 'w') as f:\n",
    "    f.write(str(list(set(puuid_list_master))))\n",
    "    f.close()"
   ]
  },
  {
   "cell_type": "code",
   "execution_count": null,
   "metadata": {},
   "outputs": [],
   "source": []
  }
 ],
 "metadata": {
  "kernelspec": {
   "display_name": "Python 3",
   "language": "python",
   "name": "python3"
  },
  "language_info": {
   "codemirror_mode": {
    "name": "ipython",
    "version": 3
   },
   "file_extension": ".py",
   "mimetype": "text/x-python",
   "name": "python",
   "nbconvert_exporter": "python",
   "pygments_lexer": "ipython3",
   "version": "3.7.6"
  }
 },
 "nbformat": 4,
 "nbformat_minor": 4
}
